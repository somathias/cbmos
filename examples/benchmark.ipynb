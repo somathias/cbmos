{
 "cells": [
  {
   "cell_type": "markdown",
   "metadata": {},
   "source": [
    "If on google colab, you will need to change the hardware accelerator to GPU under Runtime > Change Runtime Type.\n",
    "\n",
    "Then clone and install the cbmos github repository via\n",
    "\n",
    "`!git -b dev-benchmark clone https://github.com/somathias/cbmos.git`\n",
    "\n",
    "`%cd cbmos`\n",
    "\n",
    "`!pip install .`\n"
   ]
  },
  {
   "cell_type": "code",
   "execution_count": 1,
   "metadata": {},
   "outputs": [],
   "source": [
    "import numpy as np\n",
    "import matplotlib.pyplot as plt\n",
    "\n",
    "import cbmos\n",
    "import cbmos.force_functions as ff\n",
    "import cbmos.solvers.euler_forward as ef\n",
    "import cbmos.cell as cl"
   ]
  },
  {
   "cell_type": "code",
   "execution_count": null,
   "metadata": {},
   "outputs": [],
   "source": [
    "# assuming GPU backend is available and accessible through CuPy\n",
    "import cupy as cp"
   ]
  },
  {
   "cell_type": "markdown",
   "metadata": {},
   "source": [
    "Define two models both using the forward Euler method as a solver - one using NumPy as a hpc_backend and the other using CuPy"
   ]
  },
  {
   "cell_type": "code",
   "execution_count": 2,
   "metadata": {},
   "outputs": [],
   "source": [
    "dim = 2 # let's have a two-dimensional model\n",
    "cbmmodel_numpy = cbmos.CBMModel(ff.Linear(), ef.solve_ivp, dim, hpc_backend=np)\n",
    "cbmmodel_cupy = cbmos.CBMModel(ff.Linear(), ef.solve_ivp, dim, hpc_backend=cp)"
   ]
  },
  {
   "cell_type": "markdown",
   "metadata": {},
   "source": [
    "Let's generate a large set of random numbers..."
   ]
  },
  {
   "cell_type": "code",
   "execution_count": 19,
   "metadata": {},
   "outputs": [],
   "source": [
    "seed = 845\n",
    "np.random.seed(seed) # set seed for reproducibility if necessary\n",
    "n_x = 40\n",
    "n_y = 40\n",
    "scl = 0.8\n",
    "xcrds = [(2 * i + (j % 2)) * 0.5 * scl for j in range(n_y) for i in range(n_x)]\n",
    "ycrds = [np.sqrt(3) * j * 0.5 * scl for j in range(n_y) for i in range(n_x)]"
   ]
  },
  {
   "cell_type": "markdown",
   "metadata": {},
   "source": [
    "...which we can use as initial coordinates of our (non-proliferating) cell population."
   ]
  },
  {
   "cell_type": "code",
   "execution_count": 20,
   "metadata": {},
   "outputs": [],
   "source": [
    "cell_list = []\n",
    "for i, (x, y) in enumerate(zip(xcrds, ycrds)):\n",
    "    cell_list.append(cl.Cell(i, [x, y], proliferating=False))"
   ]
  },
  {
   "cell_type": "markdown",
   "metadata": {},
   "source": [
    "Now time the models on the mechanical relaxation of our random cell population."
   ]
  },
  {
   "cell_type": "code",
   "execution_count": 21,
   "metadata": {},
   "outputs": [],
   "source": [
    "t_data = np.linspace(0, 1, 101)"
   ]
  },
  {
   "cell_type": "code",
   "execution_count": 22,
   "metadata": {},
   "outputs": [
    {
     "name": "stdout",
     "output_type": "stream",
     "text": [
      "CPU times: user 2min 47s, sys: 455 ms, total: 2min 48s\n",
      "Wall time: 2min 50s\n"
     ]
    }
   ],
   "source": [
    "%time history = cbmmodel_numpy.simulate(cell_list, t_data, {}, {\"dt\": 0.01}, seed=seed, box=True)"
   ]
  },
  {
   "cell_type": "code",
   "execution_count": 23,
   "metadata": {},
   "outputs": [
    {
     "name": "stdout",
     "output_type": "stream",
     "text": [
      "CPU times: user 21.5 s, sys: 4.23 s, total: 25.8 s\n",
      "Wall time: 26.1 s\n"
     ]
    }
   ],
   "source": [
    "%time history = cbmmodel_numpy.simulate(cell_list, t_data, {}, {\"dt\": 0.01}, seed=seed)"
   ]
  },
  {
   "cell_type": "code",
   "execution_count": null,
   "metadata": {},
   "outputs": [],
   "source": [
    "%time history = cbmmodel_cupy.simulate(cell_list, t_data, {}, {\"dt\": 0.01}, seed=seed)"
   ]
  }
 ],
 "metadata": {
  "kernelspec": {
   "display_name": "Python 3",
   "language": "python",
   "name": "python3"
  },
  "language_info": {
   "codemirror_mode": {
    "name": "ipython",
    "version": 3
   },
   "file_extension": ".py",
   "mimetype": "text/x-python",
   "name": "python",
   "nbconvert_exporter": "python",
   "pygments_lexer": "ipython3",
   "version": "3.8.5"
  }
 },
 "nbformat": 4,
 "nbformat_minor": 4
}
