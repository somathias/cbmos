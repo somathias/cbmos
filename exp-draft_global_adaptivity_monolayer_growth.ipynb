{
 "cells": [
  {
   "cell_type": "code",
   "execution_count": null,
   "metadata": {},
   "outputs": [],
   "source": []
  },
  {
   "cell_type": "code",
   "execution_count": 1,
   "metadata": {},
   "outputs": [],
   "source": [
    "import numpy as np\n",
    "import numpy.random as npr\n",
    "import matplotlib.pyplot as plt\n",
    "from scipy.optimize import minimize\n",
    "import scipy.integrate as scpi\n",
    "\n",
    "import os \n",
    "\n",
    "import cbmos\n",
    "import cbmos.force_functions as ff\n",
    "import cbmos.solvers.euler_forward as ef\n",
    "import cbmos.cell as cl\n",
    "\n",
    "plt.style.use('seaborn-whitegrid')\n",
    "plt.style.use('tableau-colorblind10')\n",
    "params = {'legend.fontsize': 'xx-large',\n",
    "          'figure.figsize': (6.75, 5),\n",
    "          'lines.linewidth': 3.0, \n",
    "          'axes.labelsize': 'xx-large',\n",
    "          'axes.titlesize':'xx-large',\n",
    "          'xtick.labelsize':'xx-large', \n",
    "          'ytick.labelsize':'xx-large', \n",
    "          'legend.fontsize': 'xx-large', \n",
    "          'font.size': 11, \n",
    "          'font.family': 'serif', \n",
    "          'mathtext.fontset': 'dejavuserif', \n",
    "          'axes.titlepad': 12, \n",
    "          'axes.labelpad': 12}\n",
    "plt.rcParams.update(params)"
   ]
  },
  {
   "cell_type": "code",
   "execution_count": 2,
   "metadata": {},
   "outputs": [],
   "source": [
    "# Simulation parameters\n",
    "s = 1.0    # rest length\n",
    "tf = 10.0  # final time\n",
    "rA = 1.5   # maximum interaction distance\n",
    "dim = 2\n",
    "seed=67\n",
    "\n",
    "dt = 0.05\n",
    "t_data = np.arange(0, tf, dt)\n",
    "\n",
    "force_names = ['cubic', 'pw. quad.', 'GLS']\n",
    "\n",
    "defcolors = plt.rcParams['axes.prop_cycle'].by_key()['color']\n",
    "colors = {'cubic': defcolors[0], 'pw. quad.': defcolors[5], 'GLS': defcolors[6]}\n",
    "\n",
    "# Solvers\n",
    "models_ef = {'pw. quad.': cbmos.CBModel(ff.PiecewisePolynomial(), ef.solve_ivp, dim), \n",
    "             'cubic': cbmos.CBModel(ff.Cubic(), ef.solve_ivp, dim),\n",
    "             'GLS': cbmos.CBModel(ff.Gls(), ef.solve_ivp, dim)}\n",
    "#models_ef = {'pw. quad.': cbmos.CBModel(ff.PiecewisePolynomial(), ef.solve_ivp, dim), \n",
    "#             'cubic': cbmos.CBModel(ff.Cubic(), ef.solve_ivp, dim),\n",
    " #            'GLS': cbmos.CBModel(ff.LinearExponential(), ef.solve_ivp, dim)}"
   ]
  },
  {
   "cell_type": "code",
   "execution_count": 3,
   "metadata": {},
   "outputs": [],
   "source": [
    "# parameters fitted to relaxation time t=1.0h\n",
    "params_cubic = {\"mu\": 5.70, \"s\": s, \"rA\": rA}\n",
    "muR = 9.1\n",
    "ratio = 0.21\n",
    "params_poly = {'muA': ratio*muR, 'muR': muR, 'rA': rA, 'rR': 1.0/(1.0-np.sqrt(ratio)/3.0), 'n': 1.0, 'p': 1.0}\n",
    "mu_gls=1.95\n",
    "params_gls = {'mu': mu_gls, 'a':-2*np.log(0.002/mu_gls)}\n",
    "params = {'cubic': params_cubic, 'pw. quad.': params_poly, 'GLS': params_gls}\n",
    "filename_ending = {'cubic': '_cubic', 'pw. quad.': '_pwq', 'GLS': '_gls'}"
   ]
  },
  {
   "cell_type": "code",
   "execution_count": 4,
   "metadata": {},
   "outputs": [],
   "source": [
    "def cubic_prime(r, mu, s, rA):\n",
    "    return mu*(r-rA)*(3*r-2*s-rA)\n",
    "    \n",
    "def pwq_prime(r, muA, rA, muR, rR, s):\n",
    "    return 2*(muR/rR*(1-r/rR)-muA/rA*(1-r/rA))\n",
    "    \n",
    "def gls_prime(r, mu, s):\n",
    "    return mu/(1+r-s)"
   ]
  },
  {
   "cell_type": "code",
   "execution_count": 5,
   "metadata": {},
   "outputs": [],
   "source": [
    "# plot function\n",
    "def plot_population(cell_list, color='blue'):\n",
    "    fig=plt.figure()\n",
    "    ax=fig.add_subplot(1,1,1)\n",
    "    #colors = 10*plt.rcParams['axes.prop_cycle'].by_key()['color']\n",
    "    n_cells = len(cell_list)\n",
    "    for i in range(n_cells):\n",
    "        #ax.add_patch(plt.Circle(cell_list[i].position ,0.5,color=colors[i], alpha=0.6))\n",
    "        ax.add_patch(plt.Circle(cell_list[i].position ,0.5,color=color, alpha=0.4))\n",
    "        plt.plot(cell_list[i].position[0], cell_list[i].position[1], '.', color=color)\n",
    "    plt.show()"
   ]
  },
  {
   "cell_type": "code",
   "execution_count": null,
   "metadata": {},
   "outputs": [],
   "source": []
  },
  {
   "cell_type": "markdown",
   "metadata": {},
   "source": [
    "# Global adaptive time-stepping for a growing monolayer"
   ]
  },
  {
   "cell_type": "code",
   "execution_count": 6,
   "metadata": {},
   "outputs": [],
   "source": [
    "rate = 4.0"
   ]
  },
  {
   "cell_type": "code",
   "execution_count": 7,
   "metadata": {},
   "outputs": [],
   "source": [
    "cell_list = [\n",
    "        cl.Cell(\n",
    "            0, [0., 0.],\n",
    "            proliferating=True, division_time_generator=lambda t: npr.exponential(rate) + t)\n",
    "        ]"
   ]
  },
  {
   "cell_type": "code",
   "execution_count": 8,
   "metadata": {},
   "outputs": [
    {
     "name": "stdout",
     "output_type": "stream",
     "text": [
      "Analytical stability bounds:\n",
      "Cubic 0.7017543859649122\n",
      "PWQ 0.6639683340575724\n",
      "GLS 0.5128205128205129\n"
     ]
    }
   ],
   "source": [
    "# g'(s) for different force laws\n",
    "gp_cubic = params_cubic['mu']*(s-rA)**2\n",
    "rR = params_poly['rR']\n",
    "muA = params_poly['muA']\n",
    "gp_PWQ = 2*(muR/rR*(1-s/rR)-muA/rA*(1-s/rA))\n",
    "gp_GLS = params_gls['mu']\n",
    "\n",
    "print('Analytical stability bounds:')\n",
    "print('Cubic '+ str(1.0/gp_cubic))\n",
    "print('PWQ '+ str(1.0/gp_PWQ))\n",
    "print('GLS '+ str(1.0/gp_GLS))\n"
   ]
  },
  {
   "cell_type": "markdown",
   "metadata": {},
   "source": [
    "## No Jacobian - accuracy bound only"
   ]
  },
  {
   "cell_type": "code",
   "execution_count": 9,
   "metadata": {},
   "outputs": [
    {
     "name": "stdout",
     "output_type": "stream",
     "text": [
      "Nothing to delete.\n",
      "Nothing to delete.\n",
      "Using global adaptive timestepping.\n",
      "Using global adaptive timestepping.\n",
      "Using global adaptive timestepping.\n",
      "Using global adaptive timestepping.\n",
      "Using global adaptive timestepping.\n",
      "Using global adaptive timestepping.\n",
      "Using global adaptive timestepping.\n",
      "Initial step cubic 3.85\n",
      "Stability bound estimate cubic 0.3994682547056084\n",
      "Nothing to delete.\n",
      "Nothing to delete.\n",
      "Using global adaptive timestepping.\n",
      "Using global adaptive timestepping.\n",
      "Using global adaptive timestepping.\n",
      "Using global adaptive timestepping.\n"
     ]
    },
    {
     "name": "stderr",
     "output_type": "stream",
     "text": [
      "WARNING:matplotlib.legend:No handles with labels found to put in legend.\n"
     ]
    },
    {
     "name": "stdout",
     "output_type": "stream",
     "text": [
      "Using global adaptive timestepping.\n",
      "Using global adaptive timestepping.\n",
      "Using global adaptive timestepping.\n",
      "Initial step pw. quad. 3.85\n",
      "Stability bound estimate pw. quad. 0.5101546625009687\n",
      "Nothing to delete.\n",
      "Nothing to delete.\n",
      "Using global adaptive timestepping.\n",
      "Using global adaptive timestepping.\n",
      "Using global adaptive timestepping.\n",
      "Using global adaptive timestepping.\n",
      "Using global adaptive timestepping.\n",
      "Using global adaptive timestepping.\n",
      "Using global adaptive timestepping.\n",
      "Initial step GLS 3.85\n",
      "Stability bound estimate GLS 0.44835342948568063\n"
     ]
    },
    {
     "data": {
      "text/plain": [
       "Text(0, 0.5, '$\\\\Delta t$ in hours')"
      ]
     },
     "execution_count": 9,
     "metadata": {},
     "output_type": "execute_result"
    },
    {
     "data": {
      "image/png": "[encoded data removed]",
      "text/plain": [
       "<Figure size 486x360 with 1 Axes>"
      ]
     },
     "metadata": {},
     "output_type": "display_data"
    }
   ],
   "source": [
    "#plt.plot(t_data, 1.0/gp_cubic*np.ones(len(t_data)), linestyle='--', color=colors['cubic'] )\n",
    "#plt.plot(t_data, 1.0/gp_PWQ*np.ones(len(t_data)), linestyle='--', color=colors['pw. quad.'] )\n",
    "#plt.plot(t_data, 1.0/gp_GLS*np.ones(len(t_data)), linestyle='--', color=colors['GLS'] )\n",
    "\n",
    "for force in force_names:\n",
    "    \n",
    "    try:\n",
    "        os.remove('step_sizes'+filename_ending[force]+'.txt')\n",
    "    except FileNotFoundError:\n",
    "        print('Nothing to delete.')\n",
    "    try:\n",
    "        os.remove('AFs'+filename_ending[force]+'.txt')\n",
    "    except FileNotFoundError:\n",
    "        print('Nothing to delete.')\n",
    "    \n",
    "    ts, history = models_ef[force].simulate(cell_list, t_data, params[force], {\"eps\": 0.01,\"eta\":0.0001, \"out\": filename_ending[force], 'write_to_file': True}, seed=seed)\n",
    "    dts = np.loadtxt('step_sizes'+filename_ending[force]+'.txt')\n",
    "    print('Initial step '+force + ' ' +str(dts[0]))\n",
    "    print('Stability bound estimate '+force + ' ' +str((dts[-2]+dts[-1])/2.0))\n",
    "    #ts = np.loadtxt('time_points'+filename_ending[force]+'.txt')\n",
    "    plt.plot([len(clt) for clt in history])\n",
    "    #plt.plot(ts, dts,'-*', label=force, color=colors[force])\n",
    "\n",
    "\n",
    "\n",
    "\n",
    "plt.legend()\n",
    "plt.xlabel('Time in hours')\n",
    "plt.ylabel('$\\Delta t$ in hours')\n",
    "#plt.ylim([-0.1, 1.2])\n",
    "#plt.savefig('adaptivity_local_compression_eps0_01.pdf', bbox_inches='tight')\n",
    "#plt.savefig('adaptivity_pairwise_relaxation_eps0_01.png', bbox_inches='tight')"
   ]
  },
  {
   "cell_type": "code",
   "execution_count": 10,
   "metadata": {},
   "outputs": [
    {
     "data": {
      "text/plain": [
       "[<matplotlib.lines.Line2D at 0x7f41c8339128>]"
      ]
     },
     "execution_count": 10,
     "metadata": {},
     "output_type": "execute_result"
    },
    {
     "data": {
      "image/png": "[encoded data removed]",
      "text/plain": [
       "<Figure size 486x360 with 1 Axes>"
      ]
     },
     "metadata": {},
     "output_type": "display_data"
    }
   ],
   "source": [
    "plt.plot(ts, [len(clt) for clt in history])"
   ]
  },
  {
   "cell_type": "code",
   "execution_count": 11,
   "metadata": {},
   "outputs": [
    {
     "name": "stdout",
     "output_type": "stream",
     "text": [
      "[[ 0.          1.        ]\n",
      " [ 3.85        1.        ]\n",
      " [ 3.9104342   2.        ]\n",
      " [ 3.94714514  2.        ]\n",
      " [ 3.9969047   2.        ]\n",
      " [ 4.06350915  2.        ]\n",
      " [ 4.15341642  2.        ]\n",
      " [ 4.27941115  2.        ]\n",
      " [ 4.47446778  2.        ]\n",
      " [ 4.91396511  2.        ]\n",
      " [ 5.5594134   2.        ]\n",
      " [ 6.03278092  2.        ]\n",
      " [ 6.67455375  2.        ]\n",
      " [ 7.14679614  2.        ]\n",
      " [ 7.78864446  2.        ]\n",
      " [ 8.26091009  2.        ]\n",
      " [ 8.90275683  2.        ]\n",
      " [ 8.54395375  3.        ]\n",
      " [ 8.58325715  3.        ]\n",
      " [ 8.63708074  3.        ]\n",
      " [ 8.70937685  3.        ]\n",
      " [ 8.8080422   3.        ]\n",
      " [ 8.78965586  4.        ]\n",
      " [ 8.82614555  4.        ]\n",
      " [ 8.8780831   4.        ]\n",
      " [ 8.95078434  4.        ]\n",
      " [ 9.04938009  4.        ]\n",
      " [ 9.18195675  4.        ]\n",
      " [ 9.35799387  4.        ]\n",
      " [ 9.59202758  4.        ]\n",
      " [ 9.92074761  4.        ]\n",
      " [10.48873444  4.        ]]\n"
     ]
    }
   ],
   "source": [
    "print(np.vstack([ts, [len(clt) for clt in history]]).T)\n"
   ]
  },
  {
   "cell_type": "code",
   "execution_count": 44,
   "metadata": {},
   "outputs": [
    {
     "data": {
      "text/plain": [
       "[0.0,\n",
       " 0.15000000000000002,\n",
       " 0.2506026341510727,\n",
       " 0.36986979415432075,\n",
       " 0.6192657925495229,\n",
       " 2.0350254234176477,\n",
       " 2.5976800006769736,\n",
       " 4.488065475293537,\n",
       " 4.773703137097412,\n",
       " 6.074592696103425,\n",
       " 4.885558592149005,\n",
       " 5.014828534777382,\n",
       " 5.303250061527859,\n",
       " 5.130735986026291,\n",
       " 5.266385381244614,\n",
       " 5.573108141492296,\n",
       " 6.049935849555976,\n",
       " 6.786526644034108,\n",
       " 6.835271736450992,\n",
       " 6.95531858620131,\n",
       " 7.201760142683464,\n",
       " 7.673218641314991,\n",
       " 8.076179464610949,\n",
       " 8.081784633453422,\n",
       " 8.19926710591741,\n",
       " 8.43364902909015,\n",
       " 9.107580454837962,\n",
       " 8.91801133370163,\n",
       " 8.963703633255209,\n",
       " 9.142062278974914,\n",
       " 9.136839443186798,\n",
       " 9.278894784658934,\n",
       " 9.550012296680906,\n",
       " 9.595822820041448,\n",
       " 9.722858111430718,\n",
       " 9.98820099883898]"
      ]
     },
     "execution_count": 44,
     "metadata": {},
     "output_type": "execute_result"
    }
   ],
   "source": [
    "ts"
   ]
  },
  {
   "cell_type": "code",
   "execution_count": 10,
   "metadata": {},
   "outputs": [
    {
     "name": "stdout",
     "output_type": "stream",
     "text": [
      "Nothing to delete.\n",
      "Using global adaptive timestepping.\n",
      "Initial step cubic 0.0032049822895122227\n",
      "Stability bound estimate cubic 0.15104423138593986\n",
      "Nothing to delete.\n",
      "Using global adaptive timestepping.\n",
      "Initial step pw. quad. 0.005385243481659383\n",
      "Stability bound estimate pw. quad. 0.168699704167308\n",
      "Nothing to delete.\n",
      "Using global adaptive timestepping.\n",
      "Initial step GLS 0.008720796150616413\n",
      "Stability bound estimate GLS 0.22413105566706173\n"
     ]
    },
    {
     "data": {
      "image/png": "[encoded data removed]",
      "text/plain": [
       "<Figure size 486x360 with 1 Axes>"
      ]
     },
     "metadata": {},
     "output_type": "display_data"
    }
   ],
   "source": [
    "plt.plot(t_data, 1.0/gp_cubic*np.ones(len(t_data)), linestyle='--', color=colors['cubic'] )\n",
    "plt.plot(t_data, 1.0/gp_PWQ*np.ones(len(t_data)), linestyle='--', color=colors['pw. quad.'] )\n",
    "plt.plot(t_data, 1.0/gp_GLS*np.ones(len(t_data)), linestyle='--', color=colors['GLS'] )\n",
    "\n",
    "for force in force_names:\n",
    "    \n",
    "    try:\n",
    "        os.remove('step_sizes'+filename_ending[force]+'.txt')\n",
    "        os.remove('time_points'+filename_ending[force]+'.txt')\n",
    "        os.remove('AFs'+filename_ending[force]+'.txt')\n",
    "\n",
    "    except FileNotFoundError:\n",
    "        print('Nothing to delete.')\n",
    "    \n",
    "    ts, history = models_ef[force].simulate(cell_list, t_data, params[force], {\"eps\": 0.001, \"eta\":0.0001, \"out\": filename_ending[force], 'write_to_file': True}, seed=seed)\n",
    "    dts = np.loadtxt('step_sizes'+filename_ending[force]+'.txt')\n",
    "    print('Initial step '+force + ' ' +str(dts[0]))\n",
    "    print('Stability bound estimate '+force + ' ' +str((dts[-2]+dts[-1])/2.0))\n",
    "    plt.plot(ts[:-1], dts,'-*', label=force, color=colors[force])\n",
    "\n",
    "plt.legend()\n",
    "plt.xlabel('Time in hours')\n",
    "plt.ylabel('$\\Delta t$ in hours')\n",
    "plt.ylim([-0.1, 1.2])\n",
    "plt.savefig('adaptivity_local_compression_eps0_001.pdf', bbox_inches='tight')\n",
    "#plt.savefig('adaptivity_pairwise_relaxation_eps0_001.png', bbox_inches='tight')\n"
   ]
  },
  {
   "cell_type": "code",
   "execution_count": 13,
   "metadata": {},
   "outputs": [
    {
     "name": "stdout",
     "output_type": "stream",
     "text": [
      "Analytical accuracy bounds for the first step, eps= 0.001\n",
      "Cubic 0.003128366173325387\n",
      "PWQ 0.005246890209381213\n",
      "GLS 0.008095015365876104\n"
     ]
    }
   ],
   "source": [
    "# Accuracy bound for initial step:\n",
    "eps = 0.001\n",
    "r0 = 0.3\n",
    "\n",
    "gp_cubic = cubic_prime(r0, params_cubic['mu'], s, rA)\n",
    "ab_cubic = np.sqrt(eps/(gp_cubic*np.abs(ff.Cubic()(r0, **params_cubic))))\n",
    "\n",
    "gp_pwq = pwq_prime(r0, params_poly['muA'], rA, muR, params_poly['rR'], s)\n",
    "ab_pwq = np.sqrt(eps/(gp_pwq*np.abs(ff.PiecewisePolynomial()(r0, **params_poly))))\n",
    "\n",
    "gp_gls = gls_prime(r0, params_gls['mu'],s)\n",
    "ab_gls = np.sqrt(eps/(gp_gls*np.abs(params_gls['mu']*np.log(1+r0-s))))\n",
    "\n",
    "print('Analytical accuracy bounds for the first step, eps= '+ str(eps))\n",
    "print('Cubic '+str(ab_cubic))\n",
    "print('PWQ '+ str(ab_pwq))\n",
    "print('GLS ' + str(ab_gls))"
   ]
  },
  {
   "cell_type": "markdown",
   "metadata": {},
   "source": [
    "## Using the Jacobian to obtain the stability bound"
   ]
  },
  {
   "cell_type": "code",
   "execution_count": 10,
   "metadata": {},
   "outputs": [],
   "source": [
    "dts = np.loadtxt('step_sizes_pwq.txt')"
   ]
  },
  {
   "cell_type": "code",
   "execution_count": 11,
   "metadata": {},
   "outputs": [
    {
     "data": {
      "text/plain": [
       "array([[0.02346481, 0.02346481, 0.1056841 ],\n",
       "       [0.0341079 , 0.0341079 , 0.13487041],\n",
       "       [0.05257735, 0.05257735, 0.17803717],\n",
       "       [0.08812941, 0.08812941, 0.24525848],\n",
       "       [0.16931129, 0.16931129, 0.3556038 ],\n",
       "       [0.45525583, 0.45525583, 0.53842873],\n",
       "       [0.75782565, 0.80849822, 0.75782565],\n",
       "       [0.58173532, 0.62063348, 0.58173532],\n",
       "       [0.75782565, 0.80849822, 0.75782565],\n",
       "       [0.58173532, 0.62063348, 0.58173532],\n",
       "       [0.75782565, 0.80849822, 0.75782565],\n",
       "       [0.58173532, 0.62063348, 0.58173532],\n",
       "       [0.75782565, 0.80849822, 0.75782565],\n",
       "       [0.58173532, 0.62063348, 0.58173532],\n",
       "       [0.75782565, 0.80849822, 0.75782565],\n",
       "       [0.58173532, 0.62063348, 0.58173532],\n",
       "       [0.75782565, 0.80849822, 0.75782565],\n",
       "       [0.58173532, 0.62063348, 0.58173532],\n",
       "       [0.75782565, 0.80849822, 0.75782565],\n",
       "       [0.58173532, 0.62063348, 0.58173532]])"
      ]
     },
     "execution_count": 11,
     "metadata": {},
     "output_type": "execute_result"
    }
   ],
   "source": [
    "dts"
   ]
  },
  {
   "cell_type": "code",
   "execution_count": 17,
   "metadata": {},
   "outputs": [
    {
     "name": "stdout",
     "output_type": "stream",
     "text": [
      "Using global adaptive timestepping with a stability bound.\n",
      "Using global adaptive timestepping with a stability bound.\n",
      "Using global adaptive timestepping with a stability bound.\n"
     ]
    },
    {
     "data": {
      "text/plain": [
       "Text(0, 0.5, '$\\\\Delta t$ in hours')"
      ]
     },
     "execution_count": 17,
     "metadata": {},
     "output_type": "execute_result"
    },
    {
     "data": {
      "image/png": "[encoded data removed]",
      "text/plain": [
       "<Figure size 486x360 with 1 Axes>"
      ]
     },
     "metadata": {},
     "output_type": "display_data"
    }
   ],
   "source": [
    "plt.plot(t_data, 1.0/gp_cubic*np.ones(len(t_data)), linestyle='--', color=colors['cubic'] )\n",
    "plt.plot(t_data, 1.0/gp_PWQ*np.ones(len(t_data)), linestyle='--', color=colors['pw. quad.'] )\n",
    "plt.plot(t_data, 1.0/gp_GLS*np.ones(len(t_data)), linestyle='--', color=colors['GLS'] )\n",
    "\n",
    "for force in force_names:\n",
    "    \n",
    "    try:\n",
    "        os.remove('step_sizes'+filename_ending[force]+'.txt')\n",
    "    except FileNotFoundError:\n",
    "        print('Nothing to delete.')\n",
    "    try:\n",
    "        os.remove('AFs'+filename_ending[force]+'.txt')\n",
    "    except FileNotFoundError:\n",
    "        print('Nothing to delete.')\n",
    "    try:\n",
    "        os.remove('EVs'+filename_ending[force]+'.txt')\n",
    "    except FileNotFoundError:\n",
    "        print('Nothing to delete.')\n",
    "    \n",
    "    ts, history = models_ef[force].simulate(cell_list, t_data, params[force], {\"eps\": 0.001, \"out\": filename_ending[force], 'write_to_file': True, 'jacobian': models_ef[force].jacobian, 'force_args': params[force]}, seed=seed)\n",
    "    dts = np.loadtxt('step_sizes'+filename_ending[force]+'.txt')\n",
    "    #print('Initial step '+force + ' ' +str(dts[0]))\n",
    "    #print('Stability bound estimate '+force + ' ' +str((dts[-2]+dts[-1])/2.0))\n",
    "    #ts = np.loadtxt('time_points'+filename_ending[force]+'.txt')\n",
    "    plt.plot(ts[:-1], dts[:, 0],'-*', label=force, color=colors[force])\n",
    "    #plt.plot(ts[:-1], dts[:, 1],'-*', label=force+', acc', color=colors[force], linestyle=':')\n",
    "\n",
    "\n",
    "\n",
    "\n",
    "plt.legend()\n",
    "plt.xlabel('Time in hours')\n",
    "plt.ylabel('$\\Delta t$ in hours')\n"
   ]
  },
  {
   "cell_type": "code",
   "execution_count": null,
   "metadata": {},
   "outputs": [],
   "source": []
  }
 ],
 "metadata": {
  "kernelspec": {
   "display_name": "Python 3",
   "language": "python",
   "name": "python3"
  },
  "language_info": {
   "codemirror_mode": {
    "name": "ipython",
    "version": 3
   },
   "file_extension": ".py",
   "mimetype": "text/x-python",
   "name": "python",
   "nbconvert_exporter": "python",
   "pygments_lexer": "ipython3",
   "version": "3.6.7"
  }
 },
 "nbformat": 4,
 "nbformat_minor": 4
}
