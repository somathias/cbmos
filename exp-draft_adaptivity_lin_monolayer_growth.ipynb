{
 "cells": [
  {
   "cell_type": "code",
   "execution_count": null,
   "metadata": {},
   "outputs": [],
   "source": []
  },
  {
   "cell_type": "code",
   "execution_count": 1,
   "metadata": {},
   "outputs": [],
   "source": [
    "import numpy as np\n",
    "import numpy.random as npr\n",
    "import matplotlib.pyplot as plt\n",
    "from scipy.optimize import minimize\n",
    "import scipy.integrate as scpi\n",
    "\n",
    "import os \n",
    "\n",
    "import cbmos\n",
    "import cbmos.force_functions as ff\n",
    "import cbmos.solvers.euler_forward as ef\n",
    "import cbmos.cell as cl\n",
    "\n",
    "plt.style.use('seaborn-whitegrid')\n",
    "plt.style.use('tableau-colorblind10')\n",
    "params = {'legend.fontsize': 'xx-large',\n",
    "          'figure.figsize': (6.75, 5),\n",
    "          'lines.linewidth': 3.0, \n",
    "          'axes.labelsize': 'xx-large',\n",
    "          'axes.titlesize':'xx-large',\n",
    "          'xtick.labelsize':'xx-large', \n",
    "          'ytick.labelsize':'xx-large', \n",
    "          'legend.fontsize': 'xx-large', \n",
    "          'font.size': 11, \n",
    "          'font.family': 'serif', \n",
    "          'mathtext.fontset': 'dejavuserif', \n",
    "          'axes.titlepad': 12, \n",
    "          'axes.labelpad': 12}\n",
    "plt.rcParams.update(params)"
   ]
  },
  {
   "cell_type": "markdown",
   "metadata": {},
   "source": [
    "import logging\n",
    "logger = logging.getLogger()\n",
    "logger.setLevel(logging.DEBUG)"
   ]
  },
  {
   "cell_type": "code",
   "execution_count": 2,
   "metadata": {},
   "outputs": [],
   "source": [
    "# Simulation parameters\n",
    "s = 1.0    # rest length\n",
    "tf = 40.0  # final time\n",
    "rA = 1.5   # maximum interaction distance\n",
    "dim = 2\n",
    "seed=67\n",
    "\n",
    "t_data = [0.0, tf]\n",
    "\n",
    "force_names = ['cubic', 'pw. quad.', 'GLS']\n",
    "\n",
    "defcolors = plt.rcParams['axes.prop_cycle'].by_key()['color']\n",
    "colors = {'cubic': defcolors[0], 'pw. quad.': defcolors[5], 'GLS': defcolors[6]}\n",
    "\n",
    "# Solvers\n",
    "models_ef = {'pw. quad.': cbmos.CBModel(ff.PiecewisePolynomial(), ef.solve_ivp, dim), \n",
    "             'cubic': cbmos.CBModel(ff.Cubic(), ef.solve_ivp, dim),\n",
    "             'GLS': cbmos.CBModel(ff.Gls(), ef.solve_ivp, dim)}\n",
    "#models_ef = {'pw. quad.': cbmos.CBModel(ff.PiecewisePolynomial(), ef.solve_ivp, dim), \n",
    "#             'cubic': cbmos.CBModel(ff.Cubic(), ef.solve_ivp, dim),\n",
    " #            'GLS': cbmos.CBModel(ff.LinearExponential(), ef.solve_ivp, dim)}"
   ]
  },
  {
   "cell_type": "code",
   "execution_count": 3,
   "metadata": {},
   "outputs": [],
   "source": [
    "# parameters fitted to relaxation time t=1.0h\n",
    "params_cubic = {\"mu\": 5.70, \"s\": s, \"rA\": rA}\n",
    "muR = 9.1\n",
    "ratio = 0.21\n",
    "params_poly = {'muA': ratio*muR, 'muR': muR, 'rA': rA, 'rR': 1.0/(1.0-np.sqrt(ratio)/3.0), 'n': 1.0, 'p': 1.0}\n",
    "mu_gls=1.95\n",
    "params_gls = {'mu': mu_gls, 'a':-2*np.log(0.002/mu_gls)}\n",
    "params = {'cubic': params_cubic, 'pw. quad.': params_poly, 'GLS': params_gls}\n",
    "filename_ending = {'cubic': '_cubic', 'pw. quad.': '_pwq', 'GLS': '_gls'}"
   ]
  },
  {
   "cell_type": "code",
   "execution_count": 4,
   "metadata": {},
   "outputs": [],
   "source": [
    "def cubic_prime(r, mu, s, rA):\n",
    "    return mu*(r-rA)*(3*r-2*s-rA)\n",
    "    \n",
    "def pwq_prime(r, muA, rA, muR, rR, s):\n",
    "    return 2*(muR/rR*(1-r/rR)-muA/rA*(1-r/rA))\n",
    "    \n",
    "def gls_prime(r, mu, s):\n",
    "    return mu/(1+r-s)"
   ]
  },
  {
   "cell_type": "code",
   "execution_count": 5,
   "metadata": {},
   "outputs": [],
   "source": [
    "# plot function\n",
    "def plot_population(cell_list, color='blue'):\n",
    "    fig=plt.figure()\n",
    "    ax=fig.add_subplot(1,1,1)\n",
    "    ax.set_aspect('equal')\n",
    "    #colors = 10*plt.rcParams['axes.prop_cycle'].by_key()['color']\n",
    "    n_cells = len(cell_list)\n",
    "    for i in range(n_cells):\n",
    "        #ax.add_patch(plt.Circle(cell_list[i].position ,0.5,color=colors[i], alpha=0.6))\n",
    "        ax.add_patch(plt.Circle(cell_list[i].position ,0.5,color=color, alpha=0.4))\n",
    "        plt.plot(cell_list[i].position[0], cell_list[i].position[1], '.', color=color)\n",
    "    plt.show()"
   ]
  },
  {
   "cell_type": "code",
   "execution_count": null,
   "metadata": {},
   "outputs": [],
   "source": []
  },
  {
   "cell_type": "markdown",
   "metadata": {},
   "source": [
    "# Global adaptive time-stepping for a growing monolayer"
   ]
  },
  {
   "cell_type": "code",
   "execution_count": 6,
   "metadata": {},
   "outputs": [],
   "source": [
    "rate = 1.5"
   ]
  },
  {
   "cell_type": "code",
   "execution_count": 7,
   "metadata": {},
   "outputs": [],
   "source": [
    "npr.seed(seed)\n",
    "cell_list = [\n",
    "        cl.Cell(\n",
    "            0, [0., 0.],\n",
    "            proliferating=True, division_time_generator=lambda t: npr.exponential(rate*(t+1.0)) + t)\n",
    "        ]"
   ]
  },
  {
   "cell_type": "code",
   "execution_count": 8,
   "metadata": {},
   "outputs": [
    {
     "name": "stdout",
     "output_type": "stream",
     "text": [
      "Nothing to delete.\n"
     ]
    },
    {
     "name": "stderr",
     "output_type": "stream",
     "text": [
      "/home/kubuntu1804/Documents/cbmos/cbmos/solvers/euler_forward.py:205: RuntimeWarning: divide by zero encountered in double_scalars\n",
      "  dt_s = 2.0/abs(w[0])\n"
     ]
    },
    {
     "name": "stdout",
     "output_type": "stream",
     "text": [
      "Nothing to delete.\n"
     ]
    },
    {
     "name": "stderr",
     "output_type": "stream",
     "text": [
      "/home/kubuntu1804/Documents/cbmos/cbmos/solvers/euler_forward.py:422: RuntimeWarning: divide by zero encountered in double_scalars\n",
      "  dt_s = 2.0/abs(w[0])\n"
     ]
    },
    {
     "data": {
      "text/plain": [
       "[Text(0.5, 0, 'Time in hours')]"
      ]
     },
     "execution_count": 8,
     "metadata": {},
     "output_type": "execute_result"
    },
    {
     "data": {
      "image/png": "[encoded data removed]",
      "text/plain": [
       "<Figure size 864x360 with 2 Axes>"
      ]
     },
     "metadata": {},
     "output_type": "display_data"
    }
   ],
   "source": [
    "colors = [defcolors[0], defcolors[5], defcolors[6]]\n",
    "\n",
    "# Combine into single figure\n",
    "fig, (ax1, ax2) = plt.subplots(1, 2, figsize=(12, 5), sharey='row', gridspec_kw={'hspace':0.2, 'wspace': 0.15})\n",
    "#fig2, (ax3, ax4) = plt.subplots(1, 2, figsize=(12, 5), sharex=True, sharey='row', gridspec_kw={'hspace':0.2, 'wspace': 0.15})\n",
    "\n",
    "\n",
    "force = 'cubic'\n",
    "\n",
    "try:\n",
    "    os.remove('step_sizes'+filename_ending[force]+'.txt')\n",
    "except FileNotFoundError:\n",
    "    print('Nothing to delete.')\n",
    "try:\n",
    "    os.remove('time_points'+filename_ending[force]+'.txt')\n",
    "except FileNotFoundError:\n",
    "    print('Nothing to delete.')\n",
    "try:\n",
    "    os.remove('AFs'+filename_ending[force]+'.txt')\n",
    "except FileNotFoundError:\n",
    "    print('Nothing to delete.')\n",
    "\n",
    "ts, history = models_ef[force].simulate(cell_list, t_data, params[force], {\"eps\": 0.001, \"eta\":0.0001, \"out\": filename_ending[force], 'write_to_file': True, 'jacobian': models_ef[force].jacobian, 'force_args': params[force]}, seed=seed)\n",
    "dts = np.loadtxt('step_sizes'+filename_ending[force]+'.txt')\n",
    "\n",
    "n_cells = [len(clt) for clt in history]\n",
    "division_time_indices = np.where(np.diff(n_cells) == 1)[0]\n",
    "division_times = np.array(ts)[division_time_indices]\n",
    "for xc in division_times:\n",
    "    ax1.axvline(x=xc, color='black', linestyle=\"--\", alpha=0.125)\n",
    "    \n",
    "ax1.semilogy(ts[:-1],  dts[:,0],'-*')\n",
    "ax1.set(xlabel='Time in hours')\n",
    "ax1.set(ylabel='$\\Delta t_{max}$ in hours')\n",
    "#ax1.legend()\n",
    "\n",
    "try:\n",
    "    os.remove('step_sizes'+filename_ending[force]+'.txt')\n",
    "except FileNotFoundError:\n",
    "    print('Nothing to delete.')\n",
    "try:\n",
    "    os.remove('time_points'+filename_ending[force]+'.txt')\n",
    "except FileNotFoundError:\n",
    "    print('Nothing to delete.')\n",
    "try:\n",
    "    os.remove('AFs'+filename_ending[force]+'.txt')\n",
    "except FileNotFoundError:\n",
    "    print('Nothing to delete.')\n",
    "\n",
    "ts, history = models_ef[force].simulate(cell_list, t_data, params[force], {\"eps\": 0.01, \"eta\":0.0001, \"out\": filename_ending[force], 'write_to_file': True, 'jacobian': models_ef[force].jacobian, 'force_args': params[force], 'local_adaptivity': True, 'switch':False}, seed=seed)\n",
    "dts = np.loadtxt('step_sizes'+filename_ending[force]+'.txt')\n",
    "\n",
    "n_cells = [len(clt) for clt in history]\n",
    "division_time_indices = np.where(np.diff(n_cells) == 1)[0]\n",
    "division_times = np.array(ts)[division_time_indices]\n",
    "for xc in division_times:\n",
    "    ax2.axvline(x=xc, color='black', linestyle=\"--\", alpha=0.125)\n",
    "    \n",
    "ax2.semilogy(ts[:-1],  dts,'-*')\n",
    "ax2.set(xlabel='Time in hours')\n",
    "#ax2.set(ylabel='$\\Delta t_{max}$ in hours')"
   ]
  },
  {
   "cell_type": "code",
   "execution_count": 9,
   "metadata": {},
   "outputs": [
    {
     "data": {
      "text/plain": [
       "[<matplotlib.lines.Line2D at 0x7f6f37c0b828>]"
      ]
     },
     "execution_count": 9,
     "metadata": {},
     "output_type": "execute_result"
    },
    {
     "data": {
      "image/png": "[encoded data removed]",
      "text/plain": [
       "<Figure size 486x360 with 1 Axes>"
      ]
     },
     "metadata": {},
     "output_type": "display_data"
    }
   ],
   "source": [
    "plt.plot(ts, [len(clt) for clt in history ])"
   ]
  },
  {
   "cell_type": "code",
   "execution_count": 18,
   "metadata": {},
   "outputs": [
    {
     "data": {
      "text/plain": [
       "array([1.18399633, 0.01010314, 0.01332006, 0.03578222, 0.06272376,\n",
       "       0.11726457, 0.2386379 , 0.52175377, 0.67319511, 0.73104608,\n",
       "       0.67321907, 0.71662237, 0.02129444, 0.03648088, 0.0659184 ,\n",
       "       0.12645639, 0.26018636, 0.04444937, 0.01978417, 0.03258263,\n",
       "       0.05828227, 0.10905243, 0.1681373 , 0.22936765, 0.28865858,\n",
       "       0.34728344, 0.40343347, 0.40929248, 0.01996562, 0.03258427,\n",
       "       0.05733305, 0.1012086 , 0.16053639, 0.23610609, 0.28250698,\n",
       "       0.3098069 , 0.32878187, 0.22806895, 0.01944401, 0.03181564,\n",
       "       0.05610641, 0.09984162, 0.16711636, 0.21845889, 0.26722286,\n",
       "       0.31250044, 0.33781023, 0.36376228, 0.3671736 , 0.37768927,\n",
       "       0.36839844, 0.24435138, 0.02131558, 0.0364286 , 0.06885705,\n",
       "       0.10117671, 0.02211887, 0.03948474, 0.07144477, 0.10876592,\n",
       "       0.14460002, 0.17730157, 0.22230097, 0.12884375, 0.0197193 ,\n",
       "       0.03208559, 0.05722438, 0.09941833, 0.15604259, 0.23117032,\n",
       "       0.29860109, 0.31516809, 0.29461695, 0.01988949, 0.03333453,\n",
       "       0.05935493, 0.10276839, 0.15074839, 0.23784765, 0.28182749,\n",
       "       0.30116741, 0.30899311, 0.30943938, 0.30691268, 0.30315499,\n",
       "       0.30043799, 0.15547799, 0.01997477, 0.03313279, 0.05961758,\n",
       "       0.09401054, 0.11189113, 0.1280883 , 0.09608438, 0.02240437,\n",
       "       0.03862637, 0.06935445, 0.11018123, 0.14035022, 0.12797305,\n",
       "       0.01999324, 0.03261389, 0.05724455, 0.1034282 , 0.16458936,\n",
       "       0.18952631, 0.20450683, 0.21411244, 0.2216443 , 0.22598422,\n",
       "       0.22959823, 0.23137586, 0.23251144, 0.23295926, 0.23240117,\n",
       "       0.23203481, 0.23076099, 0.23046294, 0.22866839, 0.22814967,\n",
       "       0.22613805, 0.22581254, 0.22400641, 0.22410289, 0.02838215,\n",
       "       0.02005062, 0.03248905, 0.05755516, 0.10326586, 0.12392434,\n",
       "       0.05503011, 0.0197869 , 0.03226732, 0.05704689, 0.10459522,\n",
       "       0.14240123, 0.16300659, 0.17935886, 0.01210707, 0.02010072,\n",
       "       0.03317685, 0.05767205, 0.10691839, 0.2006937 , 0.2092888 ,\n",
       "       0.21526264, 0.21937548, 0.22212211, 0.22362437, 0.22438709,\n",
       "       0.22459517, 0.22445573, 0.2241306 , 0.22367325, 0.2231871 ,\n",
       "       0.22266237, 0.22216418, 0.22166403, 0.22120592, 0.22075934,\n",
       "       0.22035654, 0.21996979, 0.21962484, 0.21929703, 0.03827955,\n",
       "       0.02036489, 0.03440149, 0.06293683, 0.09234222, 0.10695422,\n",
       "       0.11967481, 0.13116586, 0.01819356, 0.01986041, 0.03331577,\n",
       "       0.05940885, 0.09321487, 0.11537417, 0.13872476, 0.15584871,\n",
       "       0.17241854, 0.18763222, 0.19700436, 0.02097811, 0.03585044,\n",
       "       0.06557059, 0.11097733, 0.1455985 , 0.0203672 , 0.03363401,\n",
       "       0.05854159, 0.10836483, 0.19807412, 0.20483255, 0.21022847,\n",
       "       0.21347903, 0.21564378, 0.2163882 , 0.21660761, 0.21595746,\n",
       "       0.21552636, 0.21476797, 0.21453638, 0.21411219, 0.06678462,\n",
       "       0.01966729, 0.03270664, 0.05880121, 0.10429862, 0.12453625,\n",
       "       0.14133544, 0.15492768, 0.16748717, 0.17857864, 0.18914849,\n",
       "       0.11434052, 0.01968496, 0.03226629, 0.05662202, 0.1011271 ,\n",
       "       0.17320486, 0.2198314 , 0.0442234 , 0.0210029 , 0.03619308,\n",
       "       0.06610568, 0.09601951, 0.1120298 , 0.12560354, 0.13700703,\n",
       "       0.06987411, 0.01977728, 0.03265754, 0.05779967, 0.09805762,\n",
       "       0.12839058, 0.14357089, 0.15457618, 0.15991463, 0.16495628,\n",
       "       0.16980295, 0.17465564, 0.17968995, 0.17745496, 0.02005903,\n",
       "       0.03250728, 0.05747928, 0.10445138, 0.17248649, 0.20059828,\n",
       "       0.20595551, 0.16369254])"
      ]
     },
     "execution_count": 18,
     "metadata": {},
     "output_type": "execute_result"
    }
   ],
   "source": [
    "dts"
   ]
  },
  {
   "cell_type": "code",
   "execution_count": 10,
   "metadata": {},
   "outputs": [
    {
     "data": {
      "image/png": "[encoded data removed]",
      "text/plain": [
       "<Figure size 486x360 with 1 Axes>"
      ]
     },
     "metadata": {},
     "output_type": "display_data"
    }
   ],
   "source": [
    "plot_population(history[-1])"
   ]
  },
  {
   "cell_type": "code",
   "execution_count": 16,
   "metadata": {},
   "outputs": [
    {
     "name": "stdout",
     "output_type": "stream",
     "text": [
      "CPU times: user 2.2 s, sys: 72.7 ms, total: 2.27 s\n",
      "Wall time: 2.53 s\n"
     ]
    }
   ],
   "source": [
    "%%time \n",
    "ts, history = models_ef[force].simulate(cell_list, t_data, params[force], {\"eps\": 0.001, \"eta\":0.0001, 'jacobian': models_ef[force].jacobian, 'force_args': params[force]}, seed=seed)\n"
   ]
  },
  {
   "cell_type": "code",
   "execution_count": 17,
   "metadata": {},
   "outputs": [
    {
     "name": "stdout",
     "output_type": "stream",
     "text": [
      "CPU times: user 745 ms, sys: 15.9 ms, total: 761 ms\n",
      "Wall time: 919 ms\n"
     ]
    }
   ],
   "source": [
    "%%time \n",
    "ts, history = models_ef[force].simulate(cell_list, t_data, params[force], {\"eps\": 0.001, \"eta\":0.0001, 'jacobian': models_ef[force].jacobian, 'force_args': params[force], 'local_adaptivity': True}, seed=seed)\n"
   ]
  },
  {
   "cell_type": "code",
   "execution_count": 27,
   "metadata": {},
   "outputs": [
    {
     "name": "stdout",
     "output_type": "stream",
     "text": [
      "CPU times: user 1.65 s, sys: 91.8 ms, total: 1.74 s\n",
      "Wall time: 1.97 s\n"
     ]
    }
   ],
   "source": [
    "%%time \n",
    "ts, history = models_ef[force].simulate(cell_list, t_data, params[force], {'dt': 0.003}, seed=seed)\n"
   ]
  },
  {
   "cell_type": "code",
   "execution_count": 28,
   "metadata": {},
   "outputs": [
    {
     "name": "stdout",
     "output_type": "stream",
     "text": [
      "CPU times: user 219 ms, sys: 0 ns, total: 219 ms\n",
      "Wall time: 370 ms\n"
     ]
    }
   ],
   "source": [
    "%%time \n",
    "ts, history = models_ef[force].simulate(cell_list, t_data, params[force], {\"eps\": 0.001, \"eta\":0.0001}, seed=seed)\n"
   ]
  },
  {
   "cell_type": "code",
   "execution_count": 19,
   "metadata": {},
   "outputs": [
    {
     "data": {
      "text/plain": [
       "0.0025"
      ]
     },
     "execution_count": 19,
     "metadata": {},
     "output_type": "execute_result"
    }
   ],
   "source": [
    "0.01/4"
   ]
  },
  {
   "cell_type": "code",
   "execution_count": 22,
   "metadata": {},
   "outputs": [],
   "source": [
    "try:\n",
    "    os.remove('step_sizes'+filename_ending[force]+'.txt')\n",
    "except FileNotFoundError:\n",
    "    print('Nothing to delete.')"
   ]
  },
  {
   "cell_type": "code",
   "execution_count": 23,
   "metadata": {},
   "outputs": [],
   "source": [
    "ts, history = models_ef[force].simulate(cell_list, t_data, params[force], {\"eps\": 0.001, \"eta\":0.0001, \"out\": filename_ending[force], 'write_to_file': True, 'jacobian': models_ef[force].jacobian, 'force_args': params[force]}, seed=seed)\n"
   ]
  },
  {
   "cell_type": "code",
   "execution_count": 24,
   "metadata": {},
   "outputs": [],
   "source": [
    "dts = np.loadtxt('step_sizes'+filename_ending[force]+'.txt')\n"
   ]
  },
  {
   "cell_type": "code",
   "execution_count": 26,
   "metadata": {},
   "outputs": [
    {
     "data": {
      "text/plain": [
       "array([1.18399633e+00, 3.19489371e-03, 3.51394984e-03, 3.87229811e-03,\n",
       "       4.27575565e-03, 4.73115754e-03, 5.24656504e-03, 5.83152341e-03,\n",
       "       6.49738302e-03, 7.25770169e-03, 8.12875266e-03, 9.13017073e-03,\n",
       "       1.02857814e-02, 1.16246753e-02, 1.31826152e-02, 1.50039036e-02,\n",
       "       1.71438962e-02, 1.96724447e-02, 2.26787089e-02, 2.62780489e-02,\n",
       "       3.06221906e-02, 3.59147593e-02, 4.24360605e-02, 5.05847169e-02,\n",
       "       6.09521848e-02, 7.44667974e-02, 9.27004372e-02, 1.18609544e-01,\n",
       "       1.58677011e-01, 2.31170043e-01, 4.24348533e-01, 7.05220085e-01,\n",
       "       6.98299372e-01, 7.05220043e-01, 1.66896030e-01, 3.36184920e-03,\n",
       "       3.71533048e-03, 4.11449428e-03, 4.56643358e-03, 5.07954499e-03,\n",
       "       5.66380995e-03, 6.33114660e-03, 7.09585347e-03, 7.97517295e-03,\n",
       "       8.99001303e-03, 1.01657395e-02, 1.15283037e-02, 1.31191327e-02,\n",
       "       1.49859994e-02, 1.71895239e-02, 1.98077953e-02, 2.29432531e-02,\n",
       "       2.67332718e-02, 3.13670432e-02, 3.70695094e-02, 4.41472109e-02,\n",
       "       5.31204913e-02, 6.47556833e-02, 8.03110387e-02, 5.06481996e-02,\n",
       "       3.11919464e-03, 3.41893427e-03, 3.75637672e-03, 4.13825007e-03,\n",
       "       4.57298934e-03, 5.07131128e-03, 5.64703752e-03, 6.31830206e-03,\n",
       "       7.10937175e-03, 8.05347910e-03, 9.19739628e-03, 1.06091554e-02,\n",
       "       1.23816748e-02, 1.42367554e-02, 1.63882382e-02, 1.88308000e-02,\n",
       "       2.15044756e-02, 2.42766767e-02, 2.69633083e-02, 3.00062441e-02,\n",
       "       3.32746354e-02, 3.65136508e-02, 4.00851724e-02, 4.47483421e-02,\n",
       "       4.99476268e-02, 5.57945052e-02, 6.24308038e-02, 7.00376759e-02,\n",
       "       7.88509956e-02, 8.91875486e-02, 1.01490722e-01, 1.16414635e-01,\n",
       "       1.34991925e-01, 1.59007335e-01, 1.86810423e-01, 1.96975865e-01,\n",
       "       2.00973164e-01, 1.72739420e-01, 3.17351207e-03, 3.48140732e-03,\n",
       "       3.82705015e-03, 4.21678076e-03, 4.65839537e-03, 5.16153791e-03,\n",
       "       5.73814875e-03, 6.40260624e-03, 7.17301372e-03, 8.07201868e-03,\n",
       "       9.12782130e-03, 1.03755657e-02, 1.18592342e-02, 1.36345516e-02,\n",
       "       1.56549456e-02, 1.78671244e-02, 2.03895390e-02, 2.32477900e-02,\n",
       "       2.64650750e-02, 3.00624804e-02, 3.40604149e-02, 3.89636904e-02,\n",
       "       4.46960156e-02, 5.12057098e-02, 5.85261329e-02, 6.66919779e-02,\n",
       "       7.57701808e-02, 8.58969939e-02, 9.73099340e-02, 1.10372620e-01,\n",
       "       1.25605432e-01, 1.43747467e-01, 1.65890178e-01, 1.93760996e-01,\n",
       "       2.30345216e-01, 3.46715226e-03, 3.09469587e-03, 3.38902162e-03,\n",
       "       3.71878676e-03, 4.08979473e-03, 4.50918924e-03, 4.98585325e-03,\n",
       "       5.53094560e-03, 6.15862836e-03, 6.88706086e-03, 7.73976917e-03,\n",
       "       8.74754801e-03, 9.95111966e-03, 1.13073386e-02, 1.28037154e-02,\n",
       "       1.45195298e-02, 1.64811814e-02, 1.87159407e-02, 2.12529467e-02,\n",
       "       2.41260576e-02, 2.73793784e-02, 3.10762058e-02, 3.53432292e-02,\n",
       "       4.08446427e-02, 4.75481295e-02, 5.58831144e-02, 6.65124665e-02,\n",
       "       8.05035055e-02, 9.80925495e-02, 1.18335386e-01, 1.46226099e-01,\n",
       "       1.85720029e-01, 2.41114894e-01, 2.98311896e-01, 2.87133566e-01,\n",
       "       3.02220683e-01, 3.30280568e-01, 3.77941840e-01, 2.73214120e-01,\n",
       "       3.38982401e-03, 3.74238059e-03, 4.14325947e-03, 4.60225644e-03,\n",
       "       5.13207688e-03, 5.75065751e-03, 6.48649630e-03, 7.36519603e-03,\n",
       "       8.43058511e-03, 9.74611018e-03, 1.14069919e-02, 1.35627615e-02,\n",
       "       1.58554496e-02, 1.84259776e-02, 2.12846772e-02, 2.43199763e-02,\n",
       "       2.79197497e-02, 3.20298971e-02, 4.18361589e-03, 3.54014173e-03,\n",
       "       3.94508104e-03, 4.40825024e-03, 4.93922627e-03, 5.54892690e-03,\n",
       "       6.24948403e-03, 7.05385097e-03, 7.97501983e-03, 9.02476769e-03,\n",
       "       1.02120157e-02, 1.15412222e-02, 1.30116579e-02, 1.46185938e-02,\n",
       "       1.63569093e-02, 1.82263643e-02, 2.02366612e-02, 2.24105969e-02,\n",
       "       2.47850788e-02, 2.74112979e-02, 3.03571962e-02, 3.37251744e-02,\n",
       "       3.76225593e-02, 4.21711545e-02, 4.75208547e-02, 5.17788203e-02,\n",
       "       5.66645827e-02, 6.21946277e-02, 6.84933854e-02, 7.57139073e-02,\n",
       "       8.40490743e-02, 9.30741290e-02, 3.11077132e-03, 3.40128989e-03,\n",
       "       3.72644879e-03, 4.09264996e-03, 4.50819551e-03, 4.98402061e-03,\n",
       "       5.53476923e-03, 6.18041796e-03, 6.94880789e-03, 7.87974410e-03,\n",
       "       9.03193065e-03, 1.04953255e-02, 1.19722827e-02, 1.35766126e-02,\n",
       "       1.53388042e-02, 1.72222413e-02, 1.91775982e-02, 2.11782875e-02,\n",
       "       2.37979039e-02, 2.67518539e-02, 3.01167295e-02, 3.39879846e-02,\n",
       "       3.75247203e-02, 4.16861698e-02, 4.65889977e-02, 5.23960557e-02,\n",
       "       5.93352054e-02, 6.77320744e-02, 7.80669373e-02, 9.10769849e-02,\n",
       "       1.07951238e-01, 1.30865387e-01, 1.63824642e-01, 2.15656633e-01,\n",
       "       1.28326923e-01, 3.07689721e-03, 3.36230063e-03, 3.68104479e-03,\n",
       "       4.03887312e-03, 4.44309825e-03, 4.90317117e-03, 5.43149490e-03,\n",
       "       6.04598728e-03, 6.77315169e-03, 7.64010618e-03, 8.69074333e-03,\n",
       "       9.88488031e-03, 1.11882104e-02, 1.26993830e-02, 1.44503816e-02,\n",
       "       1.64744615e-02, 1.88080498e-02, 2.15684805e-02, 2.52244799e-02,\n",
       "       2.97837907e-02, 3.53658291e-02, 4.12439988e-02, 4.94487173e-02,\n",
       "       6.10137920e-02, 7.41328757e-02, 8.50512113e-02, 9.81588234e-02,\n",
       "       1.09351998e-01, 1.19968880e-01, 1.30269723e-01, 1.44591721e-01,\n",
       "       1.61107854e-01, 1.80568019e-01, 2.02753940e-01, 2.27428930e-01,\n",
       "       2.53583085e-01, 2.60237270e-01, 2.66179954e-01, 1.52728837e-01,\n",
       "       3.17886108e-03, 3.49552131e-03, 3.85454536e-03, 4.26444653e-03,\n",
       "       4.73958569e-03, 5.29331144e-03, 5.94501489e-03, 6.72268026e-03,\n",
       "       7.66591940e-03, 8.83222699e-03, 1.03073123e-02, 1.22223772e-02,\n",
       "       1.47824785e-02, 1.83077740e-02, 2.32625981e-02, 3.01124004e-02,\n",
       "       3.10666402e-02, 3.22327766e-02, 3.42058099e-02, 3.71123155e-02,\n",
       "       4.04501434e-02, 4.42292355e-02, 4.84883714e-02, 5.32885360e-02,\n",
       "       5.87134016e-02, 2.52046149e-05, 3.48330761e-03, 3.86360664e-03,\n",
       "       4.30160178e-03, 4.81178034e-03, 5.41428649e-03, 6.13784002e-03,\n",
       "       7.02459947e-03, 8.13863756e-03, 9.58150166e-03, 1.14285831e-02,\n",
       "       1.39213573e-02, 1.74229610e-02, 2.24884059e-02, 2.58943574e-02,\n",
       "       2.69871278e-02, 2.89394398e-02, 3.15632767e-02, 3.49117083e-02,\n",
       "       3.91728274e-02, 4.47898451e-02, 5.09135257e-02, 5.71712004e-02,\n",
       "       5.05279266e-02, 3.20623295e-03, 3.52552502e-03, 3.88380169e-03,\n",
       "       4.28682138e-03, 4.74135884e-03, 5.25257195e-03, 5.83084081e-03,\n",
       "       6.48677035e-03, 7.23282422e-03, 8.08384967e-03, 9.05757019e-03,\n",
       "       1.01752094e-02, 1.14622566e-02, 1.29493940e-02, 1.46736022e-02,\n",
       "       1.66795359e-02, 1.90211512e-02, 2.17633252e-02, 2.49838285e-02,\n",
       "       2.87754658e-02, 3.32487246e-02, 3.85359299e-02, 4.47994650e-02,\n",
       "       5.22495429e-02, 6.11818070e-02, 7.20529598e-02, 8.56295710e-02,\n",
       "       1.03295353e-01, 1.26488167e-01, 1.41215218e-01, 1.57388388e-01,\n",
       "       1.75199038e-01, 1.94688599e-01, 2.16075806e-01, 2.39864034e-01,\n",
       "       2.67207912e-01, 2.75358571e-01, 2.79150437e-01, 2.81978459e-01,\n",
       "       2.84006811e-01, 2.85438160e-01, 2.86450325e-01, 2.87183132e-01,\n",
       "       2.87724000e-01, 1.72525790e-01, 3.20855640e-03, 3.52186485e-03,\n",
       "       3.87500536e-03, 4.27539352e-03, 4.73245400e-03, 5.25832870e-03,\n",
       "       5.87469377e-03, 6.59918788e-03, 7.45967204e-03, 8.49617087e-03,\n",
       "       9.76570114e-03, 1.13521502e-02, 1.33839175e-02, 1.54457933e-02,\n",
       "       1.77379392e-02, 2.02303179e-02, 2.28148586e-02, 2.53649262e-02,\n",
       "       2.79419146e-02, 3.11340725e-02, 3.51038989e-02, 3.95581243e-02,\n",
       "       4.45858034e-02, 2.45943923e-02, 3.13125102e-03, 3.42836203e-03,\n",
       "       3.76216176e-03, 4.13937416e-03, 4.56854364e-03, 5.06067590e-03,\n",
       "       5.63016076e-03, 6.29613419e-03, 7.08454479e-03, 8.03139181e-03,\n",
       "       9.18799353e-03, 1.06302454e-02, 1.24741418e-02, 1.43862157e-02,\n",
       "       1.64774938e-02, 1.87770164e-02, 2.12087087e-02, 2.36702366e-02,\n",
       "       2.63263280e-02, 2.92741112e-02, 3.22496498e-02, 3.58220825e-02,\n",
       "       4.00924332e-02, 4.48126766e-02, 5.00277730e-02, 5.57883383e-02,\n",
       "       6.21621489e-02, 6.92519560e-02, 7.72236476e-02, 9.59427593e-03,\n",
       "       3.19535818e-03, 3.51339330e-03, 3.87029670e-03, 4.27176513e-03,\n",
       "       4.72448338e-03, 5.23632649e-03, 5.81661058e-03, 6.47638085e-03,\n",
       "       7.22861885e-03, 8.08891371e-03, 9.07600581e-03, 1.02124959e-02,\n",
       "       1.15257744e-02, 1.30492055e-02, 1.48236421e-02, 1.68993696e-02,\n",
       "       1.93386049e-02, 2.22187077e-02, 2.56363052e-02, 2.97125846e-02,\n",
       "       3.46001460e-02, 4.04922009e-02, 4.76362577e-02, 5.63588687e-02,\n",
       "       6.71219753e-02, 8.06741754e-02, 9.84972915e-02, 1.24285409e-01,\n",
       "       1.42889928e-01, 1.38883058e-01, 1.42047907e-01, 1.49989912e-01,\n",
       "       1.62475725e-01, 1.79853538e-01, 2.02380205e-01, 2.29619815e-01,\n",
       "       2.32144097e-01, 2.33723733e-01, 2.35122863e-01, 2.36368729e-01,\n",
       "       2.37477344e-01, 2.38461769e-01, 2.39332006e-01, 2.40099690e-01,\n",
       "       2.40774106e-01, 2.41366349e-01, 2.41884617e-01, 1.39171051e-01,\n",
       "       3.22662142e-03, 3.55451799e-03, 3.92445138e-03, 4.34304423e-03,\n",
       "       4.81815017e-03, 5.35911191e-03, 5.97707678e-03, 6.68538265e-03,\n",
       "       7.50002996e-03, 8.44025910e-03, 9.52925757e-03, 1.07950283e-02,\n",
       "       1.22714615e-02, 1.39996695e-02, 1.60296709e-02, 1.84225533e-02,\n",
       "       2.12533229e-02, 2.46148048e-02, 2.86233318e-02, 3.34279163e-02,\n",
       "       3.92271204e-02, 4.63044874e-02, 5.51115483e-02, 6.64827016e-02,\n",
       "       8.04925999e-02, 5.56197601e-02, 3.13977013e-03, 3.45095295e-03,\n",
       "       3.80378421e-03, 4.20644338e-03, 4.66858902e-03, 5.20402592e-03,\n",
       "       5.83066201e-03, 6.57261946e-03, 7.46318629e-03, 8.54937793e-03,\n",
       "       9.89929014e-03, 1.16141690e-02, 1.38482773e-02, 1.68402097e-02,\n",
       "       2.09529025e-02, 2.66746957e-02, 3.43472253e-02, 4.31379497e-02,\n",
       "       4.59758125e-02, 4.93386627e-02, 5.33085729e-02, 5.84343131e-02,\n",
       "       6.59079184e-02, 7.50478415e-02, 8.61827730e-02, 9.76108579e-02,\n",
       "       1.09206630e-01, 1.21991851e-01, 1.35285356e-01, 4.43079194e-02,\n",
       "       3.29141948e-03, 3.62619047e-03, 4.00427796e-03, 4.43335683e-03,\n",
       "       4.92358514e-03, 5.48830509e-03, 6.14539617e-03, 6.92209129e-03,\n",
       "       7.86185616e-03, 9.01004392e-03, 1.03987787e-02, 1.19509846e-02,\n",
       "       1.38029875e-02, 1.60168935e-02, 1.86626223e-02, 2.18170082e-02,\n",
       "       2.55778913e-02, 3.04849798e-02, 3.64079491e-02, 4.10970152e-02,\n",
       "       4.75006790e-02, 4.95506634e-02, 3.20841071e-03, 3.52797237e-03,\n",
       "       3.88710364e-03, 4.29202753e-03, 4.75024653e-03, 5.27087857e-03,\n",
       "       5.86509584e-03, 6.54669878e-03, 7.33286482e-03, 8.24511743e-03,\n",
       "       9.31056016e-03, 1.05634013e-02, 1.20467372e-02, 1.38144343e-02,\n",
       "       1.59327211e-02, 1.85268134e-02, 2.18060242e-02, 2.59132129e-02,\n",
       "       3.07282014e-02, 3.64353844e-02, 4.30113727e-02, 5.16284466e-02,\n",
       "       6.19180862e-02, 6.95911136e-02, 7.95968463e-02, 9.28784486e-02,\n",
       "       1.11384820e-01, 1.36033795e-01, 1.45079220e-01, 1.57729086e-01,\n",
       "       1.82542284e-01, 1.88076923e-01, 1.91006522e-01, 1.81797694e-01,\n",
       "       1.76363203e-01, 1.84275768e-01, 1.97147911e-01, 2.01035561e-01,\n",
       "       1.38745381e-01, 3.12966606e-03, 3.43637984e-03, 3.78326251e-03,\n",
       "       4.17756719e-03, 4.62808388e-03, 5.14912207e-03, 5.75848565e-03,\n",
       "       6.48064037e-03, 7.34995171e-03, 8.41541861e-03, 9.74904893e-03,\n",
       "       1.14405996e-02, 1.36209772e-02, 1.64937439e-02, 2.03115676e-02,\n",
       "       2.53046608e-02, 2.77723450e-02, 2.91994067e-02, 3.13537199e-02,\n",
       "       3.44869364e-02, 3.86471652e-02, 4.38067740e-02, 5.02317040e-02,\n",
       "       5.81742106e-02, 6.78961201e-02, 7.96156106e-02, 9.34542137e-02,\n",
       "       1.05789839e-01, 1.16164863e-01, 1.29141047e-01, 1.45146757e-01,\n",
       "       8.57180677e-02, 3.13123063e-03, 3.43452832e-03, 3.77467339e-03,\n",
       "       4.15771395e-03, 4.59111182e-03, 5.08416865e-03, 5.64859565e-03,\n",
       "       6.29927719e-03, 7.05529526e-03, 7.94130175e-03, 8.98934436e-03,\n",
       "       1.02273761e-02, 1.15544335e-02, 1.30695452e-02, 1.47916074e-02,\n",
       "       1.67379657e-02, 1.89248510e-02, 2.13698283e-02, 2.40970383e-02,\n",
       "       2.71455694e-02, 3.08595767e-02, 3.53257961e-02, 4.06494836e-02,\n",
       "       4.70970749e-02, 5.50610651e-02, 6.51462137e-02, 7.83418265e-02,\n",
       "       7.64535416e-02, 3.25324436e-03, 3.57602595e-03, 3.94047200e-03,\n",
       "       4.35454775e-03, 4.82853630e-03, 5.37593726e-03, 6.01479506e-03,\n",
       "       6.76971114e-03, 7.67498049e-03, 8.77964328e-03, 1.01559316e-02,\n",
       "       1.19140115e-02, 1.42347731e-02, 1.64739098e-02, 1.89246849e-02,\n",
       "       2.15459477e-02, 2.41265470e-02, 2.73002256e-02, 3.09306700e-02,\n",
       "       3.49086172e-02, 3.92864852e-02, 4.39983234e-02, 4.92689669e-02,\n",
       "       5.52803399e-02, 6.21142205e-02, 6.93245449e-02, 7.59508153e-02,\n",
       "       3.52873538e-03, 3.12206469e-03, 3.42535759e-03, 3.76626464e-03,\n",
       "       4.15095917e-03, 4.58696411e-03, 5.08352068e-03, 5.65207287e-03,\n",
       "       6.30690707e-03, 7.06600298e-03, 7.95216976e-03, 8.96388325e-03,\n",
       "       1.00998203e-02, 1.14116334e-02, 1.29308397e-02, 1.46955147e-02,\n",
       "       1.67521217e-02, 1.91581170e-02, 2.19857451e-02, 2.53276539e-02,\n",
       "       2.93053155e-02, 3.40818356e-02, 3.98818228e-02, 4.70230726e-02,\n",
       "       5.59690641e-02, 6.74205150e-02, 8.14201202e-02, 9.72037270e-02,\n",
       "       1.17552090e-01, 1.28032308e-01, 1.39715447e-01, 1.55445218e-01,\n",
       "       1.73387477e-01, 1.92716251e-01, 1.09712275e-01, 3.25086025e-03,\n",
       "       3.58438968e-03, 3.96130281e-03, 4.38866955e-03, 4.87498720e-03,\n",
       "       5.43052732e-03, 6.06777825e-03, 6.80201048e-03, 7.65199801e-03,\n",
       "       8.64093483e-03, 9.79745105e-03, 1.11570926e-02, 1.27644869e-02,\n",
       "       1.46749469e-02, 1.69569102e-02, 1.96762587e-02, 2.27081839e-02,\n",
       "       2.62000597e-02, 3.02817466e-02, 3.50233383e-02, 4.05645147e-02,\n",
       "       4.71170476e-02, 5.50088161e-02, 6.47567403e-02, 7.69059014e-02,\n",
       "       9.22844476e-02, 1.11903966e-01, 1.35405893e-01, 7.93885313e-02])"
      ]
     },
     "execution_count": 26,
     "metadata": {},
     "output_type": "execute_result"
    }
   ],
   "source": [
    "dts[:,0]"
   ]
  },
  {
   "cell_type": "code",
   "execution_count": null,
   "metadata": {},
   "outputs": [],
   "source": []
  }
 ],
 "metadata": {
  "kernelspec": {
   "display_name": "Python 3",
   "language": "python",
   "name": "python3"
  },
  "language_info": {
   "codemirror_mode": {
    "name": "ipython",
    "version": 3
   },
   "file_extension": ".py",
   "mimetype": "text/x-python",
   "name": "python",
   "nbconvert_exporter": "python",
   "pygments_lexer": "ipython3",
   "version": "3.6.7"
  }
 },
 "nbformat": 4,
 "nbformat_minor": 4
}
