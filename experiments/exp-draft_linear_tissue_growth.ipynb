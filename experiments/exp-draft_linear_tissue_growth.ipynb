{
 "cells": [
  {
   "cell_type": "code",
   "execution_count": 1,
   "metadata": {},
   "outputs": [],
   "source": [
    "import numpy as np\n",
    "import matplotlib.pyplot as plt\n",
    "from scipy.optimize import minimize\n",
    "import scipy.integrate as scpi\n",
    "import scipy.interpolate as sci\n",
    "\n",
    "import os \n",
    "import json\n",
    "\n",
    "import cbmos\n",
    "import cbmos.force_functions as ff\n",
    "import cbmos.solvers.euler_forward as ef\n",
    "import cbmos.solvers.euler_backward as eb\n",
    "import cbmos.cell as cl\n",
    "import cbmos.utils as ut\n",
    "import cbmos.events as ev\n",
    "\n",
    "plt.style.use('seaborn-whitegrid')\n",
    "plt.style.use('tableau-colorblind10')\n",
    "params = {'legend.fontsize': 'xx-large',\n",
    "          'figure.figsize': (6.75, 5),\n",
    "          'lines.linewidth': 3.0, \n",
    "          'axes.labelsize': 'xx-large',\n",
    "          'axes.titlesize':'xx-large',\n",
    "          'xtick.labelsize':'xx-large', \n",
    "          'ytick.labelsize':'xx-large', \n",
    "          'legend.fontsize': 'xx-large', \n",
    "          'font.size': 11, \n",
    "          'font.family': 'serif', \n",
    "          'mathtext.fontset': 'dejavuserif', \n",
    "          'axes.titlepad': 12, \n",
    "          'axes.labelpad': 12}\n",
    "plt.rcParams.update(params)\n",
    "\n",
    "from matplotlib import cm\n",
    "import matplotlib.colors as mcolors"
   ]
  },
  {
   "cell_type": "code",
   "execution_count": 2,
   "metadata": {},
   "outputs": [
    {
     "data": {
      "text/plain": [
       "'1.5.4'"
      ]
     },
     "execution_count": 2,
     "metadata": {},
     "output_type": "execute_result"
    }
   ],
   "source": [
    "import scipy\n",
    "scipy.__version__"
   ]
  },
  {
   "cell_type": "code",
   "execution_count": 3,
   "metadata": {},
   "outputs": [],
   "source": [
    "s = 1.0\n",
    "rA = 1.5\n",
    "params_cubic = {'mu': 5.7, 's': s, 'rA': rA}\n",
    "dim = 3\n",
    "seed = 67\n",
    "tf = 1500.0 # in order to reach 1000 cells (starting at 512)\n",
    "frequency = 1.0"
   ]
  },
  {
   "cell_type": "code",
   "execution_count": 4,
   "metadata": {},
   "outputs": [],
   "source": [
    "#algorithms\n",
    "#algorithms = ['EF_glob_adap_acc', 'EF_glob_adap_stab' ,  'EF_local_adap', 'EB_global_adap' ]\n",
    "algorithms = ['EF_glob_adap_acc', 'EF_glob_adap_stab' ,  'EF_local_adap', 'EB_global_adap', 'fixed_dt']\n",
    "\n",
    "\n",
    "models = {'EF_glob_adap_acc': cbmos.CBModel(ff.Cubic(), ef.solve_ivp, dim),\n",
    "          'EF_glob_adap_stab': cbmos.CBModel(ff.Cubic(), ef.solve_ivp, dim),  \n",
    "          'EF_local_adap': cbmos.CBModel(ff.Cubic(), ef.solve_ivp, dim), \n",
    "          'EB_global_adap': cbmos.CBModel(ff.Cubic(), eb.solve_ivp, dim) }\n",
    "\n",
    "eta = 1e-4\n",
    "eps = 0.005\n",
    "\n",
    "params = {'EF_glob_adap_acc': {'eps': eps, 'eta': eta},\n",
    "          'EF_glob_adap_stab': {'eps': eps, 'eta': eta, \n",
    "                                'jacobian': models['EF_glob_adap_stab'].jacobian, 'force_args': params_cubic, \n",
    "                                'always_calculate_Jacobian': True, \n",
    "                                #'calculate_eigenvalues': True\n",
    "                               }, \n",
    "          'EF_local_adap': {'eps': eps, 'eta': eta, \n",
    "                            'jacobian': models['EF_local_adap'].jacobian, 'force_args': params_cubic, \n",
    "                            'always_calculate_Jacobian': True, \n",
    "                            'local_adaptivity': True, 'm0': 14, \n",
    "                            #'calculate_eigenvalues': True\n",
    "                            #'dim': dim, \n",
    "                            'rA': rA \n",
    "                           }, \n",
    "          'EB_global_adap': {'eps': eps, 'eta': eta, 'jacobian': models['EB_global_adap'].jacobian, 'force_args': params_cubic}\n",
    "         }\n",
    "\n",
    "\n",
    "labels = {'EF_glob_adap_acc': 'Alg. I (SRFE)', \n",
    "          'EF_glob_adap_stab': 'Alg. II (SRFES)' ,  \n",
    "          'EF_local_adap': 'Alg. III (MRFE)', \n",
    "          'EB_global_adap': 'Alg. IV (SRBE)',\n",
    "          'fixed_dt': 'dt fixed'\n",
    "         }\n",
    "defcolors = plt.rcParams['axes.prop_cycle'].by_key()['color']\n",
    "colors = {'EF_glob_adap_acc': defcolors[0], \n",
    "          'EF_glob_adap_stab': defcolors[1] ,  \n",
    "          'EF_local_adap': defcolors[2], \n",
    "          'EB_global_adap': defcolors[3], \n",
    "          'fixed_dt' : defcolors[5]}"
   ]
  },
  {
   "cell_type": "code",
   "execution_count": 5,
   "metadata": {},
   "outputs": [],
   "source": [
    "dates = {0.1: '20220506', 0.5: '20220507', 1.0: '20220507', 2.0:'20220506'}\n",
    "times_between_divisions = [0.1, 0.5, 1.0, 2.0]\n",
    "base_sizes = [13, 14, 15, 16]\n",
    "#base_sizes = [13]"
   ]
  },
  {
   "cell_type": "code",
   "execution_count": 6,
   "metadata": {},
   "outputs": [],
   "source": [
    "alg = 'fixed_dt'\n",
    "data_fixed_dt = {}\n",
    "for size in base_sizes:\n",
    "    times = []\n",
    "    for tbe in [0.1, 0.5, 1.0, 2.0]:\n",
    "        if tbe == 2.0 and size != 13:\n",
    "            continue\n",
    "        # handle size=16, tbe=1.0 individually\n",
    "        if size==16 and tbe == 1.0:\n",
    "            day = '20220509'\n",
    "        else:\n",
    "            day = dates[tbe]        \n",
    "        with open('data/'+day+'_rackham_'+str(size)+'_'+str(tbe)+'_'+alg+'.json', 'r') as f:\n",
    "            wall_time = np.mean(np.array(json.load(f)['counts'])[:, 0, 2])\n",
    "        times.append(wall_time) \n",
    "    data_fixed_dt[size] = times\n",
    "    "
   ]
  },
  {
   "cell_type": "code",
   "execution_count": 7,
   "metadata": {},
   "outputs": [
    {
     "data": {
      "text/plain": [
       "{13: [86.68667089939117,\n",
       "  422.953333735466,\n",
       "  892.1566143631935,\n",
       "  1643.7156115174294],\n",
       " 14: [124.47029334306717, 613.3651329278946, 1249.2150719165802],\n",
       " 15: [187.736481487751, 909.0834839940071, 1866.6468936800957],\n",
       " 16: [278.008152782917, 1349.483847439289, 2788.3237709999084]}"
      ]
     },
     "execution_count": 7,
     "metadata": {},
     "output_type": "execute_result"
    }
   ],
   "source": [
    "data_fixed_dt"
   ]
  },
  {
   "cell_type": "code",
   "execution_count": 8,
   "metadata": {},
   "outputs": [
    {
     "name": "stdout",
     "output_type": "stream",
     "text": [
      "EF_glob_adap_acc, 0.1: 83.58195924758911\n",
      "EF_glob_adap_acc, 0.5: 139.06763410568237\n",
      "EF_glob_adap_acc, 1.0: 167.11462724208832\n",
      "EF_glob_adap_acc, 2.0: 235.33132594823837\n",
      "EF_glob_adap_stab, 0.1: 216.3360750079155\n",
      "EF_glob_adap_stab, 0.5: 442.9266610145569\n",
      "EF_glob_adap_stab, 1.0: 704.3915808200836\n",
      "EF_glob_adap_stab, 2.0: 1013.7634478807449\n",
      "EF_local_adap, 0.1: 106.7688398361206\n",
      "EF_local_adap, 0.5: 332.4275848865509\n",
      "EF_local_adap, 1.0: 601.0789261460304\n",
      "EF_local_adap, 2.0: 1098.3443470597267\n"
     ]
    }
   ],
   "source": [
    "algorithms = ['EF_glob_adap_acc', 'EF_glob_adap_stab' ,  'EF_local_adap' ]\n",
    "data = {}\n",
    "for alg in algorithms:\n",
    "    data[alg] = {}\n",
    "    for size in base_sizes:\n",
    "        times = []\n",
    "        for tbe in times_between_divisions:\n",
    "            if tbe == 2.0 and size != 13:\n",
    "                continue\n",
    "            # handle size=16, tbe=1.0 individually for EF_glob_adap_stab\n",
    "            if alg=='EF_glob_adap_stab' and size==16 and tbe == 1.0:\n",
    "                day = '20220509'\n",
    "            else:\n",
    "                day = dates[tbe] \n",
    "            with open('data/'+day+'_rackham_'+str(size)+'_'+str(tbe)+'_'+alg+'.json', 'r') as f:\n",
    "                wall_time = np.mean(np.array(json.load(f)['counts'])[:, 0, 2])\n",
    "            if size == 13:\n",
    "                print(alg+', '+str(tbe)+': '+str(wall_time))\n",
    "            times.append(wall_time) \n",
    "        data[alg][size] = list(np.array(times)/np.array(data_fixed_dt[size]))"
   ]
  },
  {
   "cell_type": "code",
   "execution_count": 9,
   "metadata": {},
   "outputs": [
    {
     "name": "stdout",
     "output_type": "stream",
     "text": [
      "EB_global_adap, 0.1: 551.6300373673439\n",
      "EB_global_adap, 0.5: 966.5549150705338\n",
      "EB_global_adap, 1.0: 1273.6276148557663\n",
      "EB_global_adap, 2.0: 1464.6658571362495\n"
     ]
    }
   ],
   "source": [
    "alg = 'EB_global_adap'\n",
    "data[alg] = {}\n",
    "for size in [13, 14]:\n",
    "    times = []\n",
    "    for tbe in times_between_divisions:\n",
    "        if tbe == 2.0 and size != 13:\n",
    "            continue\n",
    "        with open('data/'+dates[tbe]+'_rackham_'+str(size)+'_'+str(tbe)+'_'+alg+'.json', 'r') as f:\n",
    "            wall_time = np.mean(np.array(json.load(f)['counts'])[:, 0, 2])\n",
    "        if size == 13:\n",
    "            print(alg+', '+str(tbe)+': '+str(wall_time))\n",
    "        times.append(wall_time) \n",
    "    data[alg][size] = list(np.array(times)/np.array(data_fixed_dt[size]))"
   ]
  },
  {
   "cell_type": "code",
   "execution_count": 10,
   "metadata": {},
   "outputs": [
    {
     "data": {
      "text/plain": [
       "{'EF_glob_adap_acc': {13: [0.9641846708428173,\n",
       "   0.3288013665182777,\n",
       "   0.1873153486188879,\n",
       "   0.1431703418153871],\n",
       "  14: [1.0450574544586881, 0.3389746831877794, 0.20213706633710782],\n",
       "  15: [1.0615356446165873, 0.3398716513937967, 0.2154830000037592],\n",
       "  16: [1.0123715565372124, 0.32372191832220415, 0.20699304713699587]},\n",
       " 'EF_glob_adap_stab': {13: [2.4956094491043017,\n",
       "   1.047223477594299,\n",
       "   0.7895380356764676,\n",
       "   0.6167511221389865],\n",
       "  14: [2.704197626791903, 1.0961662610393141, 0.8318388867268623],\n",
       "  15: [2.7432038608991873, 1.086687935222492, 0.8990327727018576],\n",
       "  16: [2.6274656504651763, 1.1160183200832936, 0.9041357008031591]},\n",
       " 'EF_local_adap': {13: [1.2316638616799214,\n",
       "   0.7859675249526843,\n",
       "   0.6737370058900146,\n",
       "   0.668208258997898],\n",
       "  14: [1.3344841976489825, 0.8294491112598826, 0.7428975218829682],\n",
       "  15: [1.3264622610895362, 0.7903835313092578, 0.755650597893389],\n",
       "  16: [1.4177518775309674, 0.8831226804880443, 0.7828474574015449]},\n",
       " 'EB_global_adap': {13: [6.363493160414102,\n",
       "   2.285251913098906,\n",
       "   1.4275829987147048,\n",
       "   0.8910701138770067],\n",
       "  14: [6.835851854773008, 2.3637166948737405, 1.4823090881829188]}}"
      ]
     },
     "execution_count": 10,
     "metadata": {},
     "output_type": "execute_result"
    }
   ],
   "source": [
    "data"
   ]
  },
  {
   "cell_type": "code",
   "execution_count": 11,
   "metadata": {},
   "outputs": [
    {
     "name": "stdout",
     "output_type": "stream",
     "text": [
      "EF_glob_adap_acc, 5.0: 534.815206348896\n",
      "EF_glob_adap_stab, 5.0: 1340.9051216244698\n",
      "EF_local_adap, 5.0: 2826.7440151572227\n",
      "EB_global_adap, 5.0: 2016.2674244642258\n"
     ]
    }
   ],
   "source": [
    "# add data for size = 13, tbe = 5.0\n",
    "alg = 'fixed_dt'\n",
    "size = 13\n",
    "tbe = 5.0\n",
    "day = '20220509'\n",
    "with open('data/'+day+'_rackham_'+str(size)+'_'+str(tbe)+'_'+alg+'.json', 'r') as f:\n",
    "    wall_time = np.mean(np.array(json.load(f)['counts'])[:, 0, 2])\n",
    "data_fixed_dt[size].append(wall_time)\n",
    "\n",
    "algorithms = ['EF_glob_adap_acc', 'EF_glob_adap_stab' ,  'EF_local_adap' ]\n",
    "for alg in algorithms:\n",
    "    # handle individually for EF_local_adap\n",
    "    if alg=='EF_local_adap':\n",
    "        day = '20220509'\n",
    "    else:\n",
    "        day = '20220506' \n",
    "    with open('data/'+day+'_rackham_'+str(size)+'_'+str(tbe)+'_'+alg+'.json', 'r') as f:\n",
    "        wall_time = np.mean(np.array(json.load(f)['counts'])[:, 0, 2])\n",
    "    print(alg+', '+str(tbe)+': '+str(wall_time))\n",
    "    data[alg][size].append(wall_time/data_fixed_dt[size][-1])\n",
    "    \n",
    "alg = 'EB_global_adap'\n",
    "day = '20220506'\n",
    "with open('data/'+day+'_rackham_'+str(size)+'_'+str(tbe)+'_'+alg+'.json', 'r') as f:\n",
    "    wall_time = np.mean(np.array(json.load(f)['counts'])[:, 0, 2])\n",
    "print(alg+', '+str(tbe)+': '+str(wall_time))\n",
    "data[alg][size].append(wall_time/data_fixed_dt[size][-1])"
   ]
  },
  {
   "cell_type": "code",
   "execution_count": 12,
   "metadata": {},
   "outputs": [
    {
     "data": {
      "text/plain": [
       "{13: [86.68667089939117,\n",
       "  422.953333735466,\n",
       "  892.1566143631935,\n",
       "  1643.7156115174294,\n",
       "  4498.7798464894295],\n",
       " 14: [124.47029334306717, 613.3651329278946, 1249.2150719165802],\n",
       " 15: [187.736481487751, 909.0834839940071, 1866.6468936800957],\n",
       " 16: [278.008152782917, 1349.483847439289, 2788.3237709999084]}"
      ]
     },
     "execution_count": 12,
     "metadata": {},
     "output_type": "execute_result"
    }
   ],
   "source": [
    "data_fixed_dt"
   ]
  },
  {
   "cell_type": "code",
   "execution_count": 13,
   "metadata": {},
   "outputs": [
    {
     "data": {
      "text/plain": [
       "{'EF_glob_adap_acc': {13: [0.9641846708428173,\n",
       "   0.3288013665182777,\n",
       "   0.1873153486188879,\n",
       "   0.1431703418153871,\n",
       "   0.11888005739294685],\n",
       "  14: [1.0450574544586881, 0.3389746831877794, 0.20213706633710782],\n",
       "  15: [1.0615356446165873, 0.3398716513937967, 0.2154830000037592],\n",
       "  16: [1.0123715565372124, 0.32372191832220415, 0.20699304713699587]},\n",
       " 'EF_glob_adap_stab': {13: [2.4956094491043017,\n",
       "   1.047223477594299,\n",
       "   0.7895380356764676,\n",
       "   0.6167511221389865,\n",
       "   0.2980597333898945],\n",
       "  14: [2.704197626791903, 1.0961662610393141, 0.8318388867268623],\n",
       "  15: [2.7432038608991873, 1.086687935222492, 0.8990327727018576],\n",
       "  16: [2.6274656504651763, 1.1160183200832936, 0.9041357008031591]},\n",
       " 'EF_local_adap': {13: [1.2316638616799214,\n",
       "   0.7859675249526843,\n",
       "   0.6737370058900146,\n",
       "   0.668208258997898,\n",
       "   0.6283357069279661],\n",
       "  14: [1.3344841976489825, 0.8294491112598826, 0.7428975218829682],\n",
       "  15: [1.3264622610895362, 0.7903835313092578, 0.755650597893389],\n",
       "  16: [1.4177518775309674, 0.8831226804880443, 0.7828474574015449]},\n",
       " 'EB_global_adap': {13: [6.363493160414102,\n",
       "   2.285251913098906,\n",
       "   1.4275829987147048,\n",
       "   0.8910701138770067,\n",
       "   0.4481809497829943],\n",
       "  14: [6.835851854773008, 2.3637166948737405, 1.4823090881829188]}}"
      ]
     },
     "execution_count": 13,
     "metadata": {},
     "output_type": "execute_result"
    }
   ],
   "source": [
    "data"
   ]
  },
  {
   "cell_type": "code",
   "execution_count": 14,
   "metadata": {},
   "outputs": [],
   "source": [
    "from matplotlib.lines import Line2D\n",
    "custom_lines = [Line2D([0], [0], color=defcolors[0], lw=3),\n",
    "                Line2D([0], [0], color=defcolors[1], lw=3),\n",
    "                Line2D([0], [0], color=defcolors[2], lw=3),\n",
    "                Line2D([0], [0], color=defcolors[3], lw=3)]"
   ]
  },
  {
   "cell_type": "code",
   "execution_count": 15,
   "metadata": {},
   "outputs": [
    {
     "data": {
      "image/png": "[encoded data removed]",
      "text/plain": [
       "<Figure size 486x360 with 1 Axes>"
      ]
     },
     "metadata": {},
     "output_type": "display_data"
    }
   ],
   "source": [
    "plt.plot([0.1, 0.5, 1.0, 5.0], np.ones(len([0.1, 0.5, 1.0, 5.0])), '--', color='grey')\n",
    "for alg in algorithms:\n",
    "    size = 13\n",
    "    plt.plot([0.1, 0.5, 1.0, 2.0, 5.0], data[alg][size], color=colors[alg])\n",
    "#    size = 16\n",
    "#    plt.plot([0.1, 0.5, 1.0], data[alg][size], color=colors[alg], linestyle=':')\n",
    "alg = 'EB_global_adap'\n",
    "for size in [13]:\n",
    "    plt.plot([0.1, 0.5, 1.0, 2.0, 5.0], data[alg][size], color=colors[alg])\n",
    "plt.xlabel('$\\Delta t_{div}$')\n",
    "plt.ylabel('Wall time (relative to $\\Delta t_{fixed}$)')\n",
    "plt.legend(custom_lines, [labels['EF_glob_adap_acc'], labels['EF_glob_adap_stab'] ,  labels['EF_local_adap'], labels['EB_global_adap'] ])\n",
    "\n",
    "plt.savefig('linear_tissue_growth_relative_wall_time.pdf', bbox_inches='tight')"
   ]
  },
  {
   "cell_type": "code",
   "execution_count": null,
   "metadata": {},
   "outputs": [],
   "source": []
  }
 ],
 "metadata": {
  "kernelspec": {
   "display_name": "Python 3",
   "language": "python",
   "name": "python3"
  },
  "language_info": {
   "codemirror_mode": {
    "name": "ipython",
    "version": 3
   },
   "file_extension": ".py",
   "mimetype": "text/x-python",
   "name": "python",
   "nbconvert_exporter": "python",
   "pygments_lexer": "ipython3",
   "version": "3.6.7"
  }
 },
 "nbformat": 4,
 "nbformat_minor": 4
}
