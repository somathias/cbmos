{
 "cells": [
  {
   "cell_type": "code",
   "execution_count": 1,
   "metadata": {},
   "outputs": [],
   "source": [
    "import numpy as np\n",
    "import matplotlib.pyplot as plt\n",
    "import time\n",
    "\n",
    "import cbmos\n",
    "import cbmos.force_functions as ff\n",
    "import cbmos.solvers.euler_forward as ef\n",
    "import cbmos.solvers.euler_backward as eb\n",
    "import cbmos.cell as cl"
   ]
  },
  {
   "cell_type": "code",
   "execution_count": 2,
   "metadata": {},
   "outputs": [],
   "source": [
    "plt.style.use('seaborn-whitegrid')\n",
    "plt.style.use('tableau-colorblind10')\n",
    "params = {'legend.fontsize': 'xx-large',\n",
    "          'figure.figsize': (6.75, 5),\n",
    "          'lines.linewidth': 3.0,\n",
    "         'axes.labelsize': 'xx-large',\n",
    "         'axes.titlesize':'xx-large',\n",
    "         'xtick.labelsize':'xx-large',\n",
    "         'ytick.labelsize':'xx-large',\n",
    "          'legend.fontsize': 'xx-large',\n",
    "         'font.size': 11,\n",
    "          'font.family': 'serif',\n",
    "          \"mathtext.fontset\": \"dejavuserif\",\n",
    "         'axes.titlepad': 12,\n",
    "        'axes.labelpad': 12}\n",
    "plt.rcParams.update(params)"
   ]
  },
  {
   "cell_type": "code",
   "execution_count": 3,
   "metadata": {},
   "outputs": [],
   "source": [
    "# Simulation parameters\n",
    "s = 1.0    # rest length\n",
    "tf = 1.0  # final time\n",
    "rA = 1.5   # maximum interaction distance\n",
    "\n",
    "seed=17\n",
    "\n",
    "params_cubic = {\"mu\": 5.70, \"s\": s, \"rA\": rA}\n",
    "muR = 9.1\n",
    "ratio = 0.21\n",
    "params_poly = {'muA': muR*ratio, 'muR': muR, 'rA': rA, 'rR': 1.0/(1.0-np.sqrt(ratio)/3.0), 'n': 1.0, 'p': 1.0}\n",
    "mu_gls = 1.95\n",
    "params_gls = {'mu': mu_gls, 'a': 7.51}\n",
    "params = {'cubic': params_cubic, 'pw. quad.': params_poly, 'GLS': params_gls}"
   ]
  },
  {
   "cell_type": "code",
   "execution_count": 4,
   "metadata": {},
   "outputs": [],
   "source": [
    "force_names = ['cubic', 'pw. quad.', 'GLS']\n",
    "solver_names = ['EF', 'EB']\n",
    "\n",
    "defcolors = plt.rcParams['axes.prop_cycle'].by_key()['color']\n",
    "colors = {'cubic': defcolors[0], 'pw. quad.': defcolors[5], 'GLS': defcolors[6]}\n",
    "linestyles = {'cubic': '-', 'pw. quad.': '--', 'GLS': '-.'}"
   ]
  },
  {
   "cell_type": "code",
   "execution_count": 5,
   "metadata": {},
   "outputs": [],
   "source": [
    "models_ef = {'pw. quad.': cbmos.CBMModel(ff.PiecewisePolynomial(), ef.solve_ivp, 1), \n",
    "             'cubic': cbmos.CBMModel(ff.Cubic(), ef.solve_ivp, 1),\n",
    "             'GLS': cbmos.CBMModel(ff.Gls(), ef.solve_ivp, 1)}\n",
    "models_eb = {'pw. quad.': cbmos.CBMModel(ff.PiecewisePolynomial(), eb.solve_ivp, 1), \n",
    "             'cubic': cbmos.CBMModel(ff.Cubic(), eb.solve_ivp, 1),\n",
    "             'GLS': cbmos.CBMModel(ff.Gls(), eb.solve_ivp, 1)}\n",
    "model_dicts = {'EF': models_ef, 'EB': models_eb}"
   ]
  },
  {
   "cell_type": "code",
   "execution_count": 6,
   "metadata": {},
   "outputs": [],
   "source": [
    "# Initial condition\n",
    "cell_list = [cl.Cell(0, [0], proliferating=False), cl.Cell(1, [0.3], proliferating=False)]"
   ]
  },
  {
   "cell_type": "code",
   "execution_count": 7,
   "metadata": {},
   "outputs": [],
   "source": [
    "dt = 1e-4\n",
    "t_data_ref = np.arange(0, tf, dt)\n",
    "#t_data_ref = np.linspace(0, tf, 10000+1)\n",
    "\n",
    "#t_data_ref=[0,tf]\n",
    "ref_sol_dicts = {}\n",
    "for solver in solver_names:\n",
    "    models = model_dicts[solver]\n",
    "    ref_sols = {}\n",
    "    for force in force_names: \n",
    "        #params_solver = {'EF':{'dt': 0.0001}, 'EB': {'dt': 0.0001, 'jacobian': models[force].jacobian}}\n",
    "        params_solver = {'EF':{'dt': dt}, 'EB': {'dt': dt}}\n",
    "        ref_sols[force] = models[force].simulate(cell_list, t_data_ref, params[force], params_solver[solver], seed=seed)\n",
    "    ref_sol_dicts[solver] = ref_sols"
   ]
  },
  {
   "cell_type": "code",
   "execution_count": 8,
   "metadata": {},
   "outputs": [
    {
     "name": "stdout",
     "output_type": "stream",
     "text": [
      "[-3.55271368e-15 -3.55680000e+01]\n",
      "True\n",
      "[  0.         -18.92432326]\n",
      "False\n",
      "[  0. -13.]\n",
      "False\n"
     ]
    }
   ],
   "source": [
    "# Check eigenvalues at beginning\n",
    "y0 = np.array([cell.position for cell in cell_list]).reshape(-1)\n",
    "for force in force_names:\n",
    "    A = model_dicts['EF'][force].jacobian(y0, params[force])\n",
    "    w,v = np.linalg.eig(A)\n",
    "    print(w)\n",
    "    print(np.all(w < 0))"
   ]
  },
  {
   "cell_type": "code",
   "execution_count": 19,
   "metadata": {},
   "outputs": [
    {
     "name": "stdout",
     "output_type": "stream",
     "text": [
      "[  0.         -24.48600043]\n",
      "False\n",
      "[ 8.88178420e-16 -1.59878089e+01]\n",
      "False\n",
      "[-8.88178420e-16 -1.01664802e+01]\n",
      "True\n"
     ]
    }
   ],
   "source": [
    "# Check eigenvalues in the middle\n",
    "for force in force_names:\n",
    "    t_data, history = ref_sol_dicts['EF'][force]\n",
    "    y = np.array([cell.position for cell in history[200]]).reshape(-1)\n",
    "    A = model_dicts['EF'][force].jacobian(y, params[force])\n",
    "    w,v = np.linalg.eig(A)\n",
    "    print(w)\n",
    "    print(np.all(w < 0))"
   ]
  },
  {
   "cell_type": "code",
   "execution_count": 13,
   "metadata": {},
   "outputs": [],
   "source": [
    "t_data, cell_coords = ref_sol_dicts['EF'][force]"
   ]
  },
  {
   "cell_type": "code",
   "execution_count": null,
   "metadata": {},
   "outputs": [],
   "source": [
    "cell_coords"
   ]
  },
  {
   "cell_type": "code",
   "execution_count": null,
   "metadata": {},
   "outputs": [],
   "source": [
    "ref_sol_dicts['EF'][force]"
   ]
  },
  {
   "cell_type": "code",
   "execution_count": null,
   "metadata": {},
   "outputs": [],
   "source": []
  }
 ],
 "metadata": {
  "kernelspec": {
   "display_name": "Python 3",
   "language": "python",
   "name": "python3"
  },
  "language_info": {
   "codemirror_mode": {
    "name": "ipython",
    "version": 3
   },
   "file_extension": ".py",
   "mimetype": "text/x-python",
   "name": "python",
   "nbconvert_exporter": "python",
   "pygments_lexer": "ipython3",
   "version": "3.6.7"
  }
 },
 "nbformat": 4,
 "nbformat_minor": 4
}
