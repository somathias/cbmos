{
 "cells": [
  {
   "cell_type": "markdown",
   "metadata": {},
   "source": [
    "# Fit parameters \n",
    "\n",
    "First we optimize the parameters for the different force functions so that they all have a relaxation time of one hour. \n",
    "\n",
    "Then, we want to fit the force functions such that they agree as good as possible in magnitude over different regimes. We take the cubic force law fitted to a relaxation time of one hour as a baseline and fit the PWQ and GLS to it."
   ]
  },
  {
   "cell_type": "code",
   "execution_count": 1,
   "metadata": {},
   "outputs": [],
   "source": [
    "import numpy as np\n",
    "import matplotlib.pyplot as plt\n",
    "from scipy.optimize import minimize\n",
    "import scipy.integrate as scpi\n",
    "\n",
    "import cbmos_serial as cbmos\n",
    "import force_functions as ff\n",
    "import euler_forward as ef\n",
    "import cell as cl\n",
    "\n",
    "\n",
    "plt.style.use('seaborn-whitegrid')\n",
    "plt.style.use('tableau-colorblind10')\n",
    "params = {'legend.fontsize': 'x-large',\n",
    "          'figure.figsize': (6.75, 5),\n",
    "         'axes.labelsize': 'xx-large',\n",
    "         'axes.titlesize':'x-large',\n",
    "         'xtick.labelsize':'x-large',\n",
    "         'ytick.labelsize':'x-large'}\n",
    "plt.rcParams.update(params)"
   ]
  },
  {
   "cell_type": "markdown",
   "metadata": {},
   "source": [
    "## Parameter settings such that relaxation time t=1.0h"
   ]
  },
  {
   "cell_type": "code",
   "execution_count": 2,
   "metadata": {},
   "outputs": [],
   "source": [
    "# Simulation parameters\n",
    "tf = 1.0  # final time\n",
    "N_data = 100 # number of saved data points\n",
    "dt = 1/N_data  # fixed time step for Euler forward method\n",
    "dim = 1"
   ]
  },
  {
   "cell_type": "code",
   "execution_count": 3,
   "metadata": {},
   "outputs": [],
   "source": [
    "cell_list = [cl.Cell(0, [0.], proliferating=False), cl.Cell(1, [0.3], proliferating=False)]\n",
    "t_data = np.linspace(0, tf, N_data)"
   ]
  },
  {
   "cell_type": "code",
   "execution_count": 4,
   "metadata": {},
   "outputs": [],
   "source": [
    "# Solvers using different force functions \n",
    "solver_gls = cbmos.CBMSolver(ff.gls, scpi.solve_ivp, dim)\n",
    "solver_cubic = cbmos.CBMSolver(ff.cubic, scpi.solve_ivp, dim)\n",
    "solver_poly = cbmos.CBMSolver(ff.piecewise_polynomial, scpi.solve_ivp, dim)"
   ]
  },
  {
   "cell_type": "code",
   "execution_count": 5,
   "metadata": {
    "scrolled": true
   },
   "outputs": [
    {
     "name": "stdout",
     "output_type": "stream",
     "text": [
      "Optimization terminated successfully.\n",
      "         Current function value: 0.000000\n",
      "         Iterations: 9\n",
      "         Function evaluations: 111\n",
      "         Gradient evaluations: 37\n"
     ]
    }
   ],
   "source": [
    "def opt_cubic(mu):\n",
    "    history = solver_cubic.simulate(cell_list, t_data, {'mu': mu}, {})\n",
    "    y = np.array([c.position for c in history[-1]])\n",
    "    return abs(0.99 - np.abs(y[1] - y[0]))\n",
    "\n",
    "mu_cubic_opt = minimize(opt_cubic, 1.0, method='BFGS', options={'gtol': 1e-6, 'disp': True})"
   ]
  },
  {
   "cell_type": "code",
   "execution_count": 6,
   "metadata": {},
   "outputs": [
    {
     "data": {
      "text/plain": [
       "array([5.70460061])"
      ]
     },
     "execution_count": 6,
     "metadata": {},
     "output_type": "execute_result"
    }
   ],
   "source": [
    "mu_cubic_opt.x"
   ]
  },
  {
   "cell_type": "code",
   "execution_count": 7,
   "metadata": {},
   "outputs": [
    {
     "name": "stdout",
     "output_type": "stream",
     "text": [
      "Optimization terminated successfully.\n",
      "         Current function value: 0.000000\n",
      "         Iterations: 17\n",
      "         Function evaluations: 34\n"
     ]
    }
   ],
   "source": [
    "def opt_gls(mu):\n",
    "    history = solver_gls.simulate(cell_list, t_data,{'mu': mu}, {})\n",
    "    y = np.array([c.position for c in history[-1]])\n",
    "    return abs(0.99 - np.abs(y[1] - y[0]))\n",
    "\n",
    "mu_gls_opt = minimize(opt_gls, 1.0, method='Nelder-Mead', options={ 'disp': True})"
   ]
  },
  {
   "cell_type": "code",
   "execution_count": 8,
   "metadata": {},
   "outputs": [
    {
     "data": {
      "text/plain": [
       "array([1.94121094])"
      ]
     },
     "execution_count": 8,
     "metadata": {},
     "output_type": "execute_result"
    }
   ],
   "source": [
    "mu_gls_opt.x"
   ]
  },
  {
   "cell_type": "code",
   "execution_count": 9,
   "metadata": {},
   "outputs": [],
   "source": [
    "def opt_pw_poly(p):\n",
    "    muR = p[0]\n",
    "    ratio = p[1]\n",
    "    muA = ratio*muR \n",
    "    rR = 1.0/(1.0-np.sqrt(ratio)/3.0)\n",
    "    history = solver_poly.simulate(cell_list, t_data, {'muA': muA, 'muR': muR, 'rR': rR,}, {})\n",
    "    y = np.array([c.position for c in history[-1]])\n",
    "    return abs(0.99 - np.abs(y[1] - y[0]))\n",
    "\n",
    "\n",
    "muA_poly_opt = minimize(opt_pw_poly, [1.0, 0.46], method='L-BFGS-B', bounds=((0,None), (0,None)), options={'disp': True})"
   ]
  },
  {
   "cell_type": "code",
   "execution_count": 10,
   "metadata": {},
   "outputs": [
    {
     "data": {
      "text/plain": [
       "array([9.09564593, 0.21198749])"
      ]
     },
     "execution_count": 10,
     "metadata": {},
     "output_type": "execute_result"
    }
   ],
   "source": [
    "muA_poly_opt.x"
   ]
  },
  {
   "cell_type": "code",
   "execution_count": null,
   "metadata": {},
   "outputs": [],
   "source": []
  },
  {
   "cell_type": "markdown",
   "metadata": {},
   "source": [
    "## Fit over the repulsive regime"
   ]
  },
  {
   "cell_type": "code",
   "execution_count": 11,
   "metadata": {},
   "outputs": [],
   "source": [
    "rA = 1.5\n",
    "s = 1.0\n",
    "r0 = 0.3\n",
    "params_cubic = {'mu': 5.70, 'rA': rA, 's': s}"
   ]
  },
  {
   "cell_type": "code",
   "execution_count": 12,
   "metadata": {},
   "outputs": [],
   "source": [
    "r = np.linspace(r0, s, 1001)"
   ]
  },
  {
   "cell_type": "markdown",
   "metadata": {},
   "source": [
    "### GLS"
   ]
  },
  {
   "cell_type": "code",
   "execution_count": 13,
   "metadata": {},
   "outputs": [
    {
     "name": "stdout",
     "output_type": "stream",
     "text": [
      "Optimization terminated successfully.\n",
      "         Current function value: 10.151880\n",
      "         Iterations: 5\n",
      "         Function evaluations: 18\n",
      "         Gradient evaluations: 6\n"
     ]
    }
   ],
   "source": [
    "def opt_GLS(mu):\n",
    "    return np.linalg.norm(ff.cubic(r, **params_cubic) - ff.gls(r, **{'mu': mu, 'a': -2*np.log(0.002/mu), 'rA': rA, 's': s}))\n",
    "\n",
    "mu_GLS_opt = minimize(opt_GLS, 5.0, method='BFGS', options={'gtol': 1e-6, 'disp': True})"
   ]
  },
  {
   "cell_type": "code",
   "execution_count": 14,
   "metadata": {},
   "outputs": [
    {
     "data": {
      "text/plain": [
       "array([4.27285779])"
      ]
     },
     "execution_count": 14,
     "metadata": {},
     "output_type": "execute_result"
    }
   ],
   "source": [
    "mu_GLS_opt.x"
   ]
  },
  {
   "cell_type": "code",
   "execution_count": 15,
   "metadata": {},
   "outputs": [
    {
     "name": "stdout",
     "output_type": "stream",
     "text": [
      "Optimization terminated successfully.\n",
      "         Current function value: 10.151880\n",
      "         Iterations: 5\n",
      "         Function evaluations: 24\n",
      "         Gradient evaluations: 6\n"
     ]
    }
   ],
   "source": [
    "def opt_GLS(p):\n",
    "    mu = p[0]\n",
    "    a = p[1]\n",
    "    return np.linalg.norm(ff.cubic(r, **params_cubic) - ff.gls(r, **{'mu': mu, 'a': a, 'rA': rA, 's': s}))\n",
    "\n",
    "mu_GLS_opt = minimize(opt_GLS, [5.0, 5.0], method='BFGS', options={'gtol': 1e-6, 'disp': True})"
   ]
  },
  {
   "cell_type": "code",
   "execution_count": 16,
   "metadata": {},
   "outputs": [
    {
     "data": {
      "text/plain": [
       "array([4.27285779, 5.        ])"
      ]
     },
     "execution_count": 16,
     "metadata": {},
     "output_type": "execute_result"
    }
   ],
   "source": [
    "mu_GLS_opt.x"
   ]
  },
  {
   "cell_type": "markdown",
   "metadata": {},
   "source": [
    "(Here alpha of course has no effect, since we're only considering the repulsive regime.)"
   ]
  },
  {
   "cell_type": "markdown",
   "metadata": {},
   "source": [
    "### PWQ"
   ]
  },
  {
   "cell_type": "code",
   "execution_count": 17,
   "metadata": {},
   "outputs": [],
   "source": [
    "def opt_PWQ(p):\n",
    "    muR = p[0]\n",
    "    ratio = p[1]\n",
    "    muA = ratio*muR\n",
    "    rR = 1.0/(1.-np.sqrt(ratio)/3.0)\n",
    "    params_pwq = {'muR': muR, 'muA': muA, 'rR': rR, 'rA': rA, 'n':1, 'p': 1}\n",
    "    return np.linalg.norm(ff.cubic(r, **params_cubic) - ff.piecewise_polynomial(r, **params_pwq))\n",
    "\n",
    "bounds = ((0, None), (0, None))\n",
    "mu_PWQ_opt = minimize(opt_PWQ, np.array([12.0, 0.5]), method='L-BFGS-B', bounds=bounds, options={})"
   ]
  },
  {
   "cell_type": "code",
   "execution_count": 18,
   "metadata": {},
   "outputs": [
    {
     "data": {
      "text/plain": [
       "array([1.13496715e+01, 1.79125519e-03])"
      ]
     },
     "execution_count": 18,
     "metadata": {},
     "output_type": "execute_result"
    }
   ],
   "source": [
    "mu_PWQ_opt.x"
   ]
  },
  {
   "cell_type": "code",
   "execution_count": 19,
   "metadata": {},
   "outputs": [
    {
     "data": {
      "text/plain": [
       "1.5605839285449725"
      ]
     },
     "execution_count": 19,
     "metadata": {},
     "output_type": "execute_result"
    }
   ],
   "source": [
    "mu_PWQ_opt.fun"
   ]
  },
  {
   "cell_type": "markdown",
   "metadata": {},
   "source": [
    "## Over the whole regime"
   ]
  },
  {
   "cell_type": "code",
   "execution_count": 20,
   "metadata": {},
   "outputs": [],
   "source": [
    "r = np.linspace(r0, rA, 1001)"
   ]
  },
  {
   "cell_type": "markdown",
   "metadata": {},
   "source": [
    "### GLS"
   ]
  },
  {
   "cell_type": "code",
   "execution_count": 21,
   "metadata": {},
   "outputs": [
    {
     "name": "stdout",
     "output_type": "stream",
     "text": [
      "Optimization terminated successfully.\n",
      "         Current function value: 7.803572\n",
      "         Iterations: 5\n",
      "         Function evaluations: 18\n",
      "         Gradient evaluations: 6\n"
     ]
    }
   ],
   "source": [
    "def opt_GLS(mu):\n",
    "    return np.linalg.norm(ff.cubic(r, **params_cubic) - ff.gls(r, **{'mu': mu, 'a': -2*np.log(0.002/mu), 'rA': rA, 's': s}))\n",
    "\n",
    "mu_GLS_opt = minimize(opt_GLS, 5.0, method='BFGS', options={'gtol': 1e-6, 'disp': True})"
   ]
  },
  {
   "cell_type": "code",
   "execution_count": 22,
   "metadata": {},
   "outputs": [
    {
     "data": {
      "text/plain": [
       "array([4.27361666])"
      ]
     },
     "execution_count": 22,
     "metadata": {},
     "output_type": "execute_result"
    }
   ],
   "source": [
    "mu_GLS_opt.x"
   ]
  },
  {
   "cell_type": "code",
   "execution_count": 23,
   "metadata": {
    "scrolled": true
   },
   "outputs": [
    {
     "name": "stdout",
     "output_type": "stream",
     "text": [
      "Optimization terminated successfully.\n",
      "         Current function value: 8.672014\n",
      "         Iterations: 5\n",
      "         Function evaluations: 18\n",
      "         Gradient evaluations: 6\n"
     ]
    }
   ],
   "source": [
    "def opt_GLS_large_cutoff(mu):\n",
    "    return np.linalg.norm(ff.cubic(r, **params_cubic) - ff.gls(r, **{'mu': mu, 'a': 5.0, 'rA': rA, 's': s}))\n",
    "\n",
    "mu_GLS_lc = minimize(opt_GLS_large_cutoff, 5.0, method='BFGS', options={'gtol': 1e-6, 'disp': True})"
   ]
  },
  {
   "cell_type": "code",
   "execution_count": 24,
   "metadata": {},
   "outputs": [
    {
     "data": {
      "text/plain": [
       "array([4.25086958])"
      ]
     },
     "execution_count": 24,
     "metadata": {},
     "output_type": "execute_result"
    }
   ],
   "source": [
    "mu_GLS_lc.x"
   ]
  },
  {
   "cell_type": "code",
   "execution_count": 25,
   "metadata": {},
   "outputs": [
    {
     "name": "stdout",
     "output_type": "stream",
     "text": [
      "Optimization terminated successfully.\n",
      "         Current function value: 7.781141\n",
      "         Iterations: 13\n",
      "         Function evaluations: 56\n",
      "         Gradient evaluations: 14\n"
     ]
    }
   ],
   "source": [
    "def opt_GLS(p):\n",
    "    mu = p[0]\n",
    "    a = p[1]\n",
    "    return np.linalg.norm(ff.cubic(r, **params_cubic) - ff.gls(r, **{'mu': mu, 'a': a, 'rA': rA, 's': s}))\n",
    "\n",
    "mu_GLS_opt = minimize(opt_GLS, [5.0, 5.0], method='BFGS', options={'gtol': 1e-6, 'disp': True})"
   ]
  },
  {
   "cell_type": "code",
   "execution_count": 26,
   "metadata": {},
   "outputs": [
    {
     "data": {
      "text/plain": [
       "array([ 4.27308455, 11.40583337])"
      ]
     },
     "execution_count": 26,
     "metadata": {},
     "output_type": "execute_result"
    }
   ],
   "source": [
    "mu_GLS_opt.x"
   ]
  },
  {
   "cell_type": "code",
   "execution_count": 27,
   "metadata": {},
   "outputs": [
    {
     "name": "stdout",
     "output_type": "stream",
     "text": [
      "Optimization terminated successfully.\n",
      "         Current function value: 34.005746\n",
      "         Iterations: 7\n",
      "         Function evaluations: 30\n",
      "         Gradient evaluations: 10\n"
     ]
    }
   ],
   "source": [
    "def opt_GLS_a_only(a):\n",
    "    mu = 1.95\n",
    "    return np.linalg.norm(ff.cubic(r, **params_cubic) - ff.gls(r, **{'mu': mu, 'a': a, 'rA': rA, 's': s}))\n",
    "\n",
    "mu_GLS_opt = minimize(opt_GLS_a_only, 5.0, method='BFGS', options={'gtol': 1e-6, 'disp': True})"
   ]
  },
  {
   "cell_type": "code",
   "execution_count": 28,
   "metadata": {},
   "outputs": [
    {
     "data": {
      "text/plain": [
       "array([7.50978648])"
      ]
     },
     "execution_count": 28,
     "metadata": {},
     "output_type": "execute_result"
    }
   ],
   "source": [
    "mu_GLS_opt.x"
   ]
  },
  {
   "cell_type": "markdown",
   "metadata": {},
   "source": [
    "### PWQ"
   ]
  },
  {
   "cell_type": "code",
   "execution_count": 29,
   "metadata": {},
   "outputs": [],
   "source": [
    "def opt_PWQ(p):\n",
    "    muR = p[0]\n",
    "    ratio = p[1]\n",
    "    muA = ratio*muR\n",
    "    rR = 1.0/(1.-np.sqrt(ratio)/3.0)\n",
    "    params_pwq = {'muR': muR, 'muA': muA, 'rR': rR, 'rA': rA, 'n':1, 'p': 1}\n",
    "    return np.linalg.norm(ff.cubic(r, **params_cubic) - ff.piecewise_polynomial(r, **params_pwq))\n",
    "\n",
    "bounds = ((0, None), (0, None))\n",
    "mu_PWQ_opt = minimize(opt_PWQ, np.array([12.0, 0.5]), method='L-BFGS-B', bounds=bounds, options={'gtol': 1e-5, 'disp': True})"
   ]
  },
  {
   "cell_type": "code",
   "execution_count": 30,
   "metadata": {},
   "outputs": [
    {
     "data": {
      "text/plain": [
       "array([1.13328915e+01, 2.14391583e-03])"
      ]
     },
     "execution_count": 30,
     "metadata": {},
     "output_type": "execute_result"
    }
   ],
   "source": [
    "mu_PWQ_opt.x"
   ]
  },
  {
   "cell_type": "code",
   "execution_count": 31,
   "metadata": {},
   "outputs": [
    {
     "data": {
      "text/plain": [
       "1.8413483940059712"
      ]
     },
     "execution_count": 31,
     "metadata": {},
     "output_type": "execute_result"
    }
   ],
   "source": [
    "mu_PWQ_opt.fun"
   ]
  },
  {
   "cell_type": "code",
   "execution_count": null,
   "metadata": {},
   "outputs": [],
   "source": []
  },
  {
   "cell_type": "markdown",
   "metadata": {},
   "source": [
    "## Over the adhesive regime"
   ]
  },
  {
   "cell_type": "code",
   "execution_count": 32,
   "metadata": {},
   "outputs": [],
   "source": [
    "r = np.linspace(s, rA, 1001)"
   ]
  },
  {
   "cell_type": "markdown",
   "metadata": {},
   "source": [
    "### GLS"
   ]
  },
  {
   "cell_type": "code",
   "execution_count": 33,
   "metadata": {},
   "outputs": [
    {
     "name": "stdout",
     "output_type": "stream",
     "text": [
      "Optimization terminated successfully.\n",
      "         Current function value: 1.297399\n",
      "         Iterations: 4\n",
      "         Function evaluations: 18\n",
      "         Gradient evaluations: 6\n"
     ]
    }
   ],
   "source": [
    "def opt_GLS(mu):\n",
    "    return np.linalg.norm(ff.cubic(r, **params_cubic) - ff.gls(r, **{'mu': mu, 'a': -2*np.log(0.002/mu), 'rA': rA, 's': s}))\n",
    "\n",
    "mu_GLS_opt = minimize(opt_GLS, 5.0, method='BFGS', options={'gtol': 1e-6, 'disp': True})"
   ]
  },
  {
   "cell_type": "code",
   "execution_count": 34,
   "metadata": {},
   "outputs": [
    {
     "data": {
      "text/plain": [
       "array([4.34307366])"
      ]
     },
     "execution_count": 34,
     "metadata": {},
     "output_type": "execute_result"
    }
   ],
   "source": [
    "mu_GLS_opt.x"
   ]
  },
  {
   "cell_type": "code",
   "execution_count": 35,
   "metadata": {
    "scrolled": true
   },
   "outputs": [
    {
     "name": "stdout",
     "output_type": "stream",
     "text": [
      "Optimization terminated successfully.\n",
      "         Current function value: 0.843968\n",
      "         Iterations: 7\n",
      "         Function evaluations: 33\n",
      "         Gradient evaluations: 11\n"
     ]
    }
   ],
   "source": [
    "def opt_GLS_large_cutoff(mu):\n",
    "    return np.linalg.norm(ff.cubic(r, **params_cubic) - ff.gls(r, **{'mu': mu, 'a': 5.0, 'rA': rA, 's': s}))\n",
    "\n",
    "mu_GLS_lc = minimize(opt_GLS_large_cutoff, 5.0, method='BFGS', options={'gtol': 1e-6, 'disp': True})"
   ]
  },
  {
   "cell_type": "code",
   "execution_count": 36,
   "metadata": {},
   "outputs": [
    {
     "data": {
      "text/plain": [
       "array([1.08521141])"
      ]
     },
     "execution_count": 36,
     "metadata": {},
     "output_type": "execute_result"
    }
   ],
   "source": [
    "mu_GLS_lc.x"
   ]
  },
  {
   "cell_type": "code",
   "execution_count": 37,
   "metadata": {},
   "outputs": [
    {
     "name": "stdout",
     "output_type": "stream",
     "text": [
      "Optimization terminated successfully.\n",
      "         Current function value: 0.407123\n",
      "         Iterations: 10\n",
      "         Function evaluations: 48\n",
      "         Gradient evaluations: 12\n"
     ]
    }
   ],
   "source": [
    "def opt_GLS(p):\n",
    "    mu = p[0]\n",
    "    a = p[1]\n",
    "    return np.linalg.norm(ff.cubic(r, **params_cubic) - ff.gls(r, **{'mu': mu, 'a': a, 'rA': rA, 's': s}))\n",
    "\n",
    "mu_GLS_opt = minimize(opt_GLS, [5.0, 5.0], method='BFGS', options={'gtol': 1e-6, 'disp': True})"
   ]
  },
  {
   "cell_type": "code",
   "execution_count": 38,
   "metadata": {},
   "outputs": [
    {
     "data": {
      "text/plain": [
       "array([2.18026832, 7.94611768])"
      ]
     },
     "execution_count": 38,
     "metadata": {},
     "output_type": "execute_result"
    }
   ],
   "source": [
    "mu_GLS_opt.x"
   ]
  },
  {
   "cell_type": "code",
   "execution_count": 39,
   "metadata": {},
   "outputs": [
    {
     "name": "stdout",
     "output_type": "stream",
     "text": [
      "Optimization terminated successfully.\n",
      "         Current function value: 0.424737\n",
      "         Iterations: 7\n",
      "         Function evaluations: 24\n",
      "         Gradient evaluations: 8\n"
     ]
    }
   ],
   "source": [
    "def opt_GLS_a_only(a):\n",
    "    mu = 1.95\n",
    "    return np.linalg.norm(ff.cubic(r, **params_cubic) - ff.gls(r, **{'mu': mu, 'a': a, 'rA': rA, 's': s}))\n",
    "\n",
    "mu_GLS_opt = minimize(opt_GLS_a_only, 5.0, method='BFGS', options={'gtol': 1e-6, 'disp': True})"
   ]
  },
  {
   "cell_type": "code",
   "execution_count": 40,
   "metadata": {},
   "outputs": [
    {
     "data": {
      "text/plain": [
       "array([7.51041169])"
      ]
     },
     "execution_count": 40,
     "metadata": {},
     "output_type": "execute_result"
    }
   ],
   "source": [
    "mu_GLS_opt.x"
   ]
  },
  {
   "cell_type": "markdown",
   "metadata": {},
   "source": [
    "### PWQ"
   ]
  },
  {
   "cell_type": "code",
   "execution_count": 41,
   "metadata": {},
   "outputs": [],
   "source": [
    "def opt_PWQ(p):\n",
    "    muR = p[0]\n",
    "    ratio = p[1]\n",
    "    muA = ratio*muR\n",
    "    rR = 1.0/(1.-np.sqrt(ratio)/3.0)\n",
    "    params_pwq = {'muR': muR, 'muA': muA, 'rR': rR, 'rA': rA, 'n':1, 'p': 1}\n",
    "    return np.linalg.norm(ff.cubic(r, **params_cubic) - ff.piecewise_polynomial(r, **params_pwq))\n",
    "\n",
    "bounds = ((0, None), (0, None))\n",
    "mu_PWQ_opt = minimize(opt_PWQ, np.array([12.0, 0.5]), method='L-BFGS-B', bounds=bounds, options={'gtol': 1e-5, 'disp': True})"
   ]
  },
  {
   "cell_type": "code",
   "execution_count": 42,
   "metadata": {},
   "outputs": [
    {
     "data": {
      "text/plain": [
       "array([8.13262893, 0.46188713])"
      ]
     },
     "execution_count": 42,
     "metadata": {},
     "output_type": "execute_result"
    }
   ],
   "source": [
    "mu_PWQ_opt.x"
   ]
  },
  {
   "cell_type": "code",
   "execution_count": 43,
   "metadata": {},
   "outputs": [
    {
     "data": {
      "text/plain": [
       "0.15626552059122797"
      ]
     },
     "execution_count": 43,
     "metadata": {},
     "output_type": "execute_result"
    }
   ],
   "source": [
    "mu_PWQ_opt.fun"
   ]
  },
  {
   "cell_type": "code",
   "execution_count": null,
   "metadata": {},
   "outputs": [],
   "source": []
  },
  {
   "cell_type": "code",
   "execution_count": null,
   "metadata": {},
   "outputs": [],
   "source": []
  },
  {
   "cell_type": "code",
   "execution_count": null,
   "metadata": {},
   "outputs": [],
   "source": []
  },
  {
   "cell_type": "code",
   "execution_count": null,
   "metadata": {},
   "outputs": [],
   "source": []
  },
  {
   "cell_type": "code",
   "execution_count": 47,
   "metadata": {},
   "outputs": [
    {
     "data": {
      "text/plain": [
       "<matplotlib.legend.Legend at 0x7f63c7b84390>"
      ]
     },
     "execution_count": 47,
     "metadata": {},
     "output_type": "execute_result"
    },
    {
     "data": {
      "image/png": "[encoded data removed]",
      "text/plain": [
       "<Figure size 486x360 with 1 Axes>"
      ]
     },
     "metadata": {},
     "output_type": "display_data"
    }
   ],
   "source": [
    "plt.plot(np.linspace(0.3, 1.5, 1001), ff.cubic(np.linspace(0.3, 1.5, 1001),**params_cubic), label='cubic')\n",
    "mu_GLS = 1.95\n",
    "plt.plot(np.linspace(0.3, 1.5, 1001), ff.gls(np.linspace(0.3, 1.5, 1001), **{'mu': mu_GLS, 'a': -2*np.log(0.002/mu_GLS), 'rA': rA, 's': s}), label='a=13')\n",
    "plt.plot(np.linspace(0.3, 1.5, 1001), ff.gls(np.linspace(0.3, 1.5, 1001), **{'mu': mu_GLS, 'a': 5.0, 'rA': rA, 's': s}), label='a=5')\n",
    "plt.plot(np.linspace(0.3, 1.5, 1001), ff.gls(np.linspace(0.3, 1.5, 1001), **{'mu': mu_GLS, 'a': 7.51, 'rA': rA, 's': s}), label='a=7.51')\n",
    "\n",
    "plt.xlim((1.0, 1.5))\n",
    "plt.ylim((0, 0.20))\n",
    "plt.legend()"
   ]
  },
  {
   "cell_type": "code",
   "execution_count": null,
   "metadata": {},
   "outputs": [],
   "source": []
  }
 ],
 "metadata": {
  "kernelspec": {
   "display_name": "Python 3",
   "language": "python",
   "name": "python3"
  },
  "language_info": {
   "codemirror_mode": {
    "name": "ipython",
    "version": 3
   },
   "file_extension": ".py",
   "mimetype": "text/x-python",
   "name": "python",
   "nbconvert_exporter": "python",
   "pygments_lexer": "ipython3",
   "version": "3.6.7"
  }
 },
 "nbformat": 4,
 "nbformat_minor": 4
}
