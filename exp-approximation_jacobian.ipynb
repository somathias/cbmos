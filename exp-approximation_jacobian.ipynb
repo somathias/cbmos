{
 "cells": [
  {
   "cell_type": "code",
   "execution_count": 1,
   "metadata": {},
   "outputs": [],
   "source": [
    "import numpy as np\n",
    "import matplotlib.pyplot as plt\n",
    "\n",
    "import cbmos\n",
    "import cbmos.force_functions as ff\n",
    "import cbmos.solvers.euler_forward as ef\n",
    "import cbmos.solvers.euler_backward as eb\n",
    "import cbmos.cell as cl\n",
    "\n",
    "import time"
   ]
  },
  {
   "cell_type": "code",
   "execution_count": 2,
   "metadata": {},
   "outputs": [],
   "source": [
    "plt.style.use('seaborn-whitegrid')\n",
    "plt.style.use('tableau-colorblind10')\n",
    "params = {'legend.fontsize': 'xx-large',\n",
    "          'figure.figsize': (6.75, 5),\n",
    "          'lines.linewidth': 3.0,\n",
    "         'axes.labelsize': 'xx-large',\n",
    "         'axes.titlesize':'xx-large',\n",
    "         'xtick.labelsize':'xx-large',\n",
    "         'ytick.labelsize':'xx-large',\n",
    "          'legend.fontsize': 'xx-large',\n",
    "         'font.size': 11,\n",
    "          'font.family': 'serif',\n",
    "          \"mathtext.fontset\": \"dejavuserif\",\n",
    "         'axes.titlepad': 12,\n",
    "        'axes.labelpad': 12}\n",
    "plt.rcParams.update(params)"
   ]
  },
  {
   "cell_type": "code",
   "execution_count": 3,
   "metadata": {},
   "outputs": [],
   "source": [
    "# Simulation parameters\n",
    "s = 1.0    # rest length\n",
    "tf = 1.0  # final time\n",
    "rA = 1.5   # maximum interaction distance\n",
    "\n",
    "seed=17\n",
    "\n",
    "params_cubic = {\"mu\": 5.70, \"s\": s, \"rA\": rA}\n",
    "muR = 9.1\n",
    "ratio = 0.21\n",
    "params_poly = {'muA': muR*ratio, 'muR': muR, 'rA': rA, 'rR': 1.0/(1.0-np.sqrt(ratio)/3.0), 'n': 1.0, 'p': 1.0}\n",
    "mu_gls = 1.95\n",
    "params_gls = {'mu': mu_gls, 'a': 7.51}\n",
    "params = {'cubic': params_cubic, 'pw. quad.': params_poly, 'GLS': params_gls}"
   ]
  },
  {
   "cell_type": "code",
   "execution_count": 4,
   "metadata": {},
   "outputs": [],
   "source": [
    "force_names = ['cubic', 'pw. quad.', 'GLS']\n",
    "solver_names = ['EF', 'EB']\n",
    "\n",
    "defcolors = plt.rcParams['axes.prop_cycle'].by_key()['color']\n",
    "colors = {'cubic': defcolors[0], 'pw. quad.': defcolors[5], 'GLS': defcolors[6]}\n",
    "linestyles = {'cubic': '-', 'pw. quad.': '--', 'GLS': '-.'}"
   ]
  },
  {
   "cell_type": "code",
   "execution_count": 5,
   "metadata": {},
   "outputs": [],
   "source": [
    "models_ef = {'pw. quad.': cbmos.CBMModel(ff.PiecewisePolynomial(), ef.solve_ivp, 1), \n",
    "             'cubic': cbmos.CBMModel(ff.Cubic(), ef.solve_ivp, 1),\n",
    "             'GLS': cbmos.CBMModel(ff.Gls(), ef.solve_ivp, 1)}\n",
    "models_eb = {'pw. quad.': cbmos.CBMModel(ff.PiecewisePolynomial(), eb.solve_ivp, 1), \n",
    "             'cubic': cbmos.CBMModel(ff.Cubic(), eb.solve_ivp, 1),\n",
    "             'GLS': cbmos.CBMModel(ff.Gls(), eb.solve_ivp, 1)}\n",
    "model_dicts = {'EF': models_ef, 'EB': models_eb}"
   ]
  },
  {
   "cell_type": "code",
   "execution_count": 6,
   "metadata": {},
   "outputs": [],
   "source": [
    "# Initial condition\n",
    "cell_list = [cl.Cell(0, [0], proliferating=True), cl.Cell(1, [0.3], proliferating=True)]\n"
   ]
  },
  {
   "cell_type": "code",
   "execution_count": 7,
   "metadata": {},
   "outputs": [],
   "source": [
    "dt = 0.1\n",
    "N = int(1/dt) + 1\n",
    "t_data = np.arange(0,1,dt)"
   ]
  },
  {
   "cell_type": "code",
   "execution_count": 9,
   "metadata": {},
   "outputs": [],
   "source": [
    "etas = [1e-6, 1e-5, 1e-4, 1e-3, 1e-2]\n",
    "sol1 = {'cubic': [], 'pw. quad.': [], 'GLS': []}\n",
    "for eta in etas:\n",
    "    for force in force_names:\n",
    "        _, ref = model_dicts['EB'][force].simulate(cell_list, t_data, params[force], {'dt': dt, 'jacobian': model_dicts['EB'][force].jacobian}, seed=seed)\n",
    "        y_ref = np.squeeze(np.array([np.abs(clt[1].position - clt[0].position) for clt in ref]))\n",
    "        _, history = model_dicts['EB'][force].simulate(cell_list, t_data, params[force], {'dt': dt, 'eta': eta}, seed=seed)\n",
    "        y = np.squeeze(np.array([np.abs(clt[1].position - clt[0].position) for clt in history]))\n",
    "        sol1[force].append(np.linalg.norm(y-y_ref)/np.linalg.norm(y_ref))\n",
    "        "
   ]
  },
  {
   "cell_type": "code",
   "execution_count": 10,
   "metadata": {},
   "outputs": [],
   "source": [
    "dt = 0.01\n",
    "N = int(1/dt) + 1\n",
    "t_data = np.arange(0,1,dt)\n",
    "etas = [1e-6, 1e-5, 1e-4, 1e-3, 1e-2]\n",
    "sol2 = {'cubic': [], 'pw. quad.': [], 'GLS': []}\n",
    "for eta in etas:\n",
    "    for force in force_names:\n",
    "        _, ref = model_dicts['EB'][force].simulate(cell_list, t_data, params[force], {'dt': dt, 'jacobian': model_dicts['EB'][force].jacobian}, seed=seed)\n",
    "        y_ref = np.squeeze(np.array([np.abs(clt[1].position - clt[0].position) for clt in ref]))\n",
    "        _, history = model_dicts['EB'][force].simulate(cell_list, t_data, params[force], {'dt': dt, 'eta': eta}, seed=seed)\n",
    "        y = np.squeeze(np.array([np.abs(clt[1].position - clt[0].position) for clt in history]))\n",
    "        sol2[force].append(np.linalg.norm(y-y_ref)/np.linalg.norm(y_ref))"
   ]
  },
  {
   "cell_type": "code",
   "execution_count": 15,
   "metadata": {},
   "outputs": [],
   "source": [
    "dt = 0.001\n",
    "N = int(1/dt) + 1\n",
    "t_data = np.arange(0,1,dt)\n",
    "etas = [1e-6, 1e-5, 1e-4, 1e-3, 1e-2]\n",
    "sol3 = {'cubic': [], 'pw. quad.': [], 'GLS': []}\n",
    "\n",
    "exec_ref = []\n",
    "exec_times = []\n",
    "for eta in etas:\n",
    "    for force in force_names:\n",
    "        start_ref = time.time()\n",
    "        _, ref = model_dicts['EB'][force].simulate(cell_list, t_data, params[force], {'dt': dt, 'jacobian': model_dicts['EB'][force].jacobian}, seed=seed)\n",
    "        exec_ref.append(time.time() - start_ref)\n",
    "        y_ref = np.squeeze(np.array([np.abs(clt[1].position - clt[0].position) for clt in ref]))\n",
    "        start = time.time()\n",
    "        _, history = model_dicts['EB'][force].simulate(cell_list, t_data, params[force], {'dt': dt, 'eta': eta}, seed=seed)\n",
    "        exec_times.append(time.time() - start)\n",
    "        y = np.squeeze(np.array([np.abs(clt[1].position - clt[0].position) for clt in history]))\n",
    "        sol3[force].append(np.linalg.norm(y-y_ref)/np.linalg.norm(y_ref))"
   ]
  },
  {
   "cell_type": "code",
   "execution_count": 16,
   "metadata": {},
   "outputs": [
    {
     "data": {
      "text/plain": [
       "0.7383280277252198"
      ]
     },
     "execution_count": 16,
     "metadata": {},
     "output_type": "execute_result"
    }
   ],
   "source": [
    "np.mean(exec_ref)"
   ]
  },
  {
   "cell_type": "code",
   "execution_count": 17,
   "metadata": {},
   "outputs": [
    {
     "data": {
      "text/plain": [
       "0.7287783145904541"
      ]
     },
     "execution_count": 17,
     "metadata": {},
     "output_type": "execute_result"
    }
   ],
   "source": [
    "np.mean(exec_times)"
   ]
  },
  {
   "cell_type": "code",
   "execution_count": 18,
   "metadata": {},
   "outputs": [
    {
     "data": {
      "image/png": "[encoded data removed]",
      "text/plain": [
       "<Figure size 486x360 with 1 Axes>"
      ]
     },
     "metadata": {},
     "output_type": "display_data"
    }
   ],
   "source": [
    "for force in force_names:\n",
    "    plt.semilogx(etas, sol1[force], label=force+', $\\Delta t=0.1$', color=colors[force])\n",
    "    plt.semilogx(etas, sol2[force], label=force+', $\\Delta t=0.01$', color=colors[force], linestyle='--')\n",
    "    plt.semilogx(etas, sol3[force], label=force+', $\\Delta t=0.001$', color=colors[force], linestyle=':')\n",
    "#plt.legend()"
   ]
  },
  {
   "cell_type": "code",
   "execution_count": 19,
   "metadata": {},
   "outputs": [
    {
     "data": {
      "image/png": "[encoded data removed]",
      "text/plain": [
       "<Figure size 1404x360 with 3 Axes>"
      ]
     },
     "metadata": {},
     "output_type": "display_data"
    }
   ],
   "source": [
    "\n",
    "fig, (ax1, ax2, ax3) = plt.subplots(1,3, figsize=(19.5, 5), sharey=True, gridspec_kw={'wspace': 0.1})\n",
    "\n",
    "# ax1\n",
    "force='cubic'\n",
    "ax1.semilogx(etas, sol1[force], label='$\\Delta t=0.1h$', color=colors[force])\n",
    "ax1.semilogx(etas, sol2[force], label='$\\Delta t=0.01h$', color=colors[force], linestyle='--')\n",
    "ax1.semilogx(etas, sol3[force], label='$\\Delta t=0.001h$', color=colors[force], linestyle=':')\n",
    "ax1.legend(loc='center left', bbox_to_anchor=(0.45,0.7))\n",
    "#plt.legend()\n",
    "ax1.set(xlabel='$\\eta$')\n",
    "ax1.set_title(r'$\\bf{(a)}$ Cubic force')\n",
    "ax1.set(ylabel='$\\epsilon_{rel}$')\n",
    "#ax1.set_xlim([7*1e-4, 5*1e-1])\n",
    "#ax1.set_ylim([5*1e-10, 10*1e-0])\n",
    "#ax1.set_xticklabels([])\n",
    "#ax1.set_ylim([5*1e-8, 5*1e-0])\n",
    "\n",
    "\n",
    "#ax2\n",
    "force='pw. quad.'\n",
    "ax2.semilogx(etas, sol1[force], label='$\\Delta t=0.1h$', color=colors[force])\n",
    "ax2.semilogx(etas, sol2[force], label='$\\Delta t=0.01h$', color=colors[force], linestyle='--')\n",
    "ax2.semilogx(etas, sol3[force], label='$\\Delta t=0.001h$', color=colors[force], linestyle=':')\n",
    "ax2.legend(loc='center left', bbox_to_anchor=(0.45,0.7))\n",
    "ax2.set(xlabel='$\\eta$')\n",
    "#ax2.set_xlim([7*1e-4, 5*1e-1])\n",
    "ax2.set_title(r'$\\bf{(b)}$ Pw. quad. force')\n",
    "#ax2.set_xticklabels([])\n",
    "\n",
    "#ax2\n",
    "force='GLS'\n",
    "ax3.semilogx(etas, sol1[force], label='$\\Delta t=0.1h$', color=colors[force])\n",
    "ax3.semilogx(etas, sol2[force], label='$\\Delta t=0.01h$', color=colors[force], linestyle='--')\n",
    "ax3.semilogx(etas, sol3[force], label='$\\Delta t=0.001h$', color=colors[force], linestyle=':')\n",
    "ax3.legend(loc='center left', bbox_to_anchor=(0.45,0.7))\n",
    "ax3.set(xlabel='$\\eta$')\n",
    "ax3.set_title(r'$\\bf{(c)}$ GLS force')\n",
    "\n",
    "plt.savefig('accuracy_dependence_eta.pdf', bbox_inches='tight')\n"
   ]
  },
  {
   "cell_type": "code",
   "execution_count": 20,
   "metadata": {},
   "outputs": [],
   "source": [
    "dim = 2\n",
    "models_ef = {'pw. quad.': cbmos.CBMModel(ff.PiecewisePolynomial(), ef.solve_ivp, dim), \n",
    "             'cubic': cbmos.CBMModel(ff.Cubic(), ef.solve_ivp, dim),\n",
    "             'GLS': cbmos.CBMModel(ff.Gls(), ef.solve_ivp, dim)}\n",
    "models_eb = {'pw. quad.': cbmos.CBMModel(ff.PiecewisePolynomial(), eb.solve_ivp, dim), \n",
    "             'cubic': cbmos.CBMModel(ff.Cubic(), eb.solve_ivp, dim),\n",
    "             'GLS': cbmos.CBMModel(ff.Gls(), eb.solve_ivp, dim)}\n",
    "model_dicts = {'EF': models_ef, 'EB': models_eb}"
   ]
  },
  {
   "cell_type": "code",
   "execution_count": 22,
   "metadata": {},
   "outputs": [],
   "source": [
    "import scipy.integrate as sci_integr\n"
   ]
  },
  {
   "cell_type": "code",
   "execution_count": 26,
   "metadata": {},
   "outputs": [],
   "source": [
    "# 2D honeycomb mesh\n",
    "n_x = 5\n",
    "n_y = 5\n",
    "xcrds = [(2 * i + (j % 2)) * 0.5 for j in range(n_y) for i in range(n_x)]\n",
    "ycrds = [np.sqrt(3) * j * 0.5 for j in range(n_y) for i in range(n_x)]\n",
    "\n",
    "# make cell_list for the sheet\n",
    "sheet = [cl.Cell(i, [x, y], -6.0, True, lambda t: 6 + t)\n",
    "         for i, x, y in zip(range(n_x*n_y), xcrds, ycrds)]\n",
    "# delete cells to make it circular\n",
    "del sheet[24]\n",
    "del sheet[20]\n",
    "del sheet[19]\n",
    "del sheet[9]\n",
    "del sheet[4]\n",
    "del sheet[0]\n",
    "\n",
    "# prepare consistent initial data\n",
    "solver_scipy = cbmos.CBMModel(ff.PiecewisePolynomial(),\n",
    "                              sci_integr.solve_ivp, dim)\n",
    "t_data_init = [0, 0.0001]\n",
    "(t_data, initial_sheet) = solver_scipy.simulate(sheet, t_data_init,\n",
    "                                                {'muA': 0.21*9.1,\n",
    "                                                 'muR': 9.1, 'rA': rA,\n",
    "                                                 'rR': 1.0/(1.0-np.sqrt(0.21)/3.0),\n",
    "                                                 'n': 1.0, 'p': 1.0\n",
    "                                                },\n",
    "                                                {}, seed=seed)\n",
    "initial_sheet = initial_sheet[-1]"
   ]
  },
  {
   "cell_type": "code",
   "execution_count": 37,
   "metadata": {},
   "outputs": [],
   "source": [
    "dt = 0.001\n",
    "N = int(1/dt) + 1\n",
    "t_data = np.arange(0,1,dt)\n",
    "etas = [1e-6, 1e-5, 1e-4, 1e-3, 1e-2]\n",
    "sol3 = {'cubic': [], 'pw. quad.': [], 'GLS': []}\n",
    "\n",
    "exec_ref = []\n",
    "exec_times = []\n",
    "eta = 0.001\n",
    "for _ in range(10):\n",
    "    for force in force_names:\n",
    "        start_ref = time.time()\n",
    "        _, ref = model_dicts['EB'][force].simulate(initial_sheet, t_data, params[force], {'dt': dt, 'jacobian': model_dicts['EB'][force].jacobian}, seed=seed)\n",
    "        exec_ref.append(time.time() - start_ref)\n",
    "#        y_ref = np.squeeze(np.array([np.abs(clt[1].position - clt[0].position) for clt in ref]))\n",
    "        start = time.time()\n",
    "        _, history = model_dicts['EB'][force].simulate(initial_sheet, t_data, params[force], {'dt': dt, 'eta': eta}, seed=seed)\n",
    "        exec_times.append(time.time() - start)\n",
    "#        y = np.squeeze(np.array([np.abs(clt[1].position - clt[0].position) for clt in history]))\n",
    "#        sol3[force].append(np.linalg.norm(y-y_ref)/np.linalg.norm(y_ref))"
   ]
  },
  {
   "cell_type": "code",
   "execution_count": 38,
   "metadata": {},
   "outputs": [
    {
     "data": {
      "text/plain": [
       "1.8230469624201457"
      ]
     },
     "execution_count": 38,
     "metadata": {},
     "output_type": "execute_result"
    }
   ],
   "source": [
    "np.mean(exec_ref)"
   ]
  },
  {
   "cell_type": "code",
   "execution_count": 39,
   "metadata": {},
   "outputs": [
    {
     "data": {
      "text/plain": [
       "2.03626602490743"
      ]
     },
     "execution_count": 39,
     "metadata": {},
     "output_type": "execute_result"
    }
   ],
   "source": [
    "np.mean(exec_times)"
   ]
  },
  {
   "cell_type": "code",
   "execution_count": null,
   "metadata": {},
   "outputs": [],
   "source": []
  }
 ],
 "metadata": {
  "kernelspec": {
   "display_name": "Python 3",
   "language": "python",
   "name": "python3"
  },
  "language_info": {
   "codemirror_mode": {
    "name": "ipython",
    "version": 3
   },
   "file_extension": ".py",
   "mimetype": "text/x-python",
   "name": "python",
   "nbconvert_exporter": "python",
   "pygments_lexer": "ipython3",
   "version": "3.6.7"
  }
 },
 "nbformat": 4,
 "nbformat_minor": 4
}
